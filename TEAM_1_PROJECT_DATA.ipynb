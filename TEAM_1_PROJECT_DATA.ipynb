{
  "nbformat": 4,
  "nbformat_minor": 0,
  "metadata": {
    "colab": {
      "name": "TEAM_1_PROJECT_DATA",
      "provenance": [],
      "collapsed_sections": [],
      "toc_visible": true,
      "include_colab_link": true
    },
    "kernelspec": {
      "name": "python3",
      "display_name": "Python 3"
    }
  },
  "cells": [
    {
      "cell_type": "markdown",
      "metadata": {
        "id": "view-in-github",
        "colab_type": "text"
      },
      "source": [
        "<a href=\"https://colab.research.google.com/github/BrendaCheyech/Project/blob/main/TEAM_1_PROJECT_DATA.ipynb\" target=\"_parent\"><img src=\"https://colab.research.google.com/assets/colab-badge.svg\" alt=\"Open In Colab\"/></a>"
      ]
    },
    {
      "cell_type": "markdown",
      "metadata": {
        "id": "0POnAbtqZ7xN"
      },
      "source": [
        "# BUSINESSS UNDERSTANDING\n",
        "\n",
        "\n"
      ]
    },
    {
      "cell_type": "code",
      "metadata": {
        "id": "acEb84ScaDaL"
      },
      "source": [
        ""
      ],
      "execution_count": null,
      "outputs": []
    },
    {
      "cell_type": "markdown",
      "metadata": {
        "id": "HoCtVIo8aGP8"
      },
      "source": [
        "# DATA UNDERSTANDING"
      ]
    },
    {
      "cell_type": "code",
      "metadata": {
        "id": "boJJ-aTJaK1m"
      },
      "source": [
        ""
      ],
      "execution_count": null,
      "outputs": []
    },
    {
      "cell_type": "markdown",
      "metadata": {
        "id": "fchtmJZiaLIP"
      },
      "source": [
        "# DATA PREPARATION"
      ]
    },
    {
      "cell_type": "markdown",
      "metadata": {
        "id": "KDCqMEdB7KBr"
      },
      "source": [
        "## 3.1 Importing Library"
      ]
    },
    {
      "cell_type": "code",
      "metadata": {
        "id": "9v-0yzp3ajGn"
      },
      "source": [
        "# Importing pandas library\n",
        "import pandas as pd\n",
        "import numpy as np"
      ],
      "execution_count": null,
      "outputs": []
    },
    {
      "cell_type": "markdown",
      "metadata": {
        "id": "DzYK3-aQ7R0f"
      },
      "source": [
        "## 3.2 Loading Datasets"
      ]
    },
    {
      "cell_type": "code",
      "metadata": {
        "id": "OwGcz5_P7cDl",
        "colab": {
          "base_uri": "https://localhost:8080/",
          "height": 191
        },
        "outputId": "811c979f-c6d3-486a-82c8-43844dbf29db"
      },
      "source": [
        "county_population = pd.read_csv('census2019populationcounty.csv')\n",
        "county_population.head(5)"
      ],
      "execution_count": null,
      "outputs": [
        {
          "output_type": "execute_result",
          "data": {
            "text/html": [
              "<div>\n",
              "<style scoped>\n",
              "    .dataframe tbody tr th:only-of-type {\n",
              "        vertical-align: middle;\n",
              "    }\n",
              "\n",
              "    .dataframe tbody tr th {\n",
              "        vertical-align: top;\n",
              "    }\n",
              "\n",
              "    .dataframe thead th {\n",
              "        text-align: right;\n",
              "    }\n",
              "</style>\n",
              "<table border=\"1\" class=\"dataframe\">\n",
              "  <thead>\n",
              "    <tr style=\"text-align: right;\">\n",
              "      <th></th>\n",
              "      <th>COUNTY_PCODE</th>\n",
              "      <th>COUNTY_NAME</th>\n",
              "      <th>2019_POPULATION</th>\n",
              "      <th>MALE</th>\n",
              "      <th>FEMALE</th>\n",
              "      <th>TOTAL_HOUSEHOLDS</th>\n",
              "      <th>Density \\n(Persons Per Sq. Km)</th>\n",
              "      <th>Unnamed: 7</th>\n",
              "      <th>Unnamed: 8</th>\n",
              "      <th>Unnamed: 9</th>\n",
              "      <th>Unnamed: 10</th>\n",
              "      <th>Unnamed: 11</th>\n",
              "      <th>Unnamed: 12</th>\n",
              "    </tr>\n",
              "  </thead>\n",
              "  <tbody>\n",
              "    <tr>\n",
              "      <th>0</th>\n",
              "      <td>KE01</td>\n",
              "      <td>Mombasa</td>\n",
              "      <td>1,208,333</td>\n",
              "      <td>610,257</td>\n",
              "      <td>598,046</td>\n",
              "      <td>378,422</td>\n",
              "      <td>5,495</td>\n",
              "      <td>NaN</td>\n",
              "      <td>NaN</td>\n",
              "      <td>NaN</td>\n",
              "      <td>NaN</td>\n",
              "      <td>NaN</td>\n",
              "      <td>NaN</td>\n",
              "    </tr>\n",
              "    <tr>\n",
              "      <th>1</th>\n",
              "      <td>KE02</td>\n",
              "      <td>Kwale</td>\n",
              "      <td>866,820</td>\n",
              "      <td>425,121</td>\n",
              "      <td>441,681</td>\n",
              "      <td>173,176</td>\n",
              "      <td>105</td>\n",
              "      <td>NaN</td>\n",
              "      <td>NaN</td>\n",
              "      <td>NaN</td>\n",
              "      <td>NaN</td>\n",
              "      <td>NaN</td>\n",
              "      <td>NaN</td>\n",
              "    </tr>\n",
              "    <tr>\n",
              "      <th>2</th>\n",
              "      <td>KE03</td>\n",
              "      <td>Kilifi</td>\n",
              "      <td>1,453,787</td>\n",
              "      <td>704,089</td>\n",
              "      <td>749,673</td>\n",
              "      <td>298,472</td>\n",
              "      <td>116</td>\n",
              "      <td>NaN</td>\n",
              "      <td>NaN</td>\n",
              "      <td>NaN</td>\n",
              "      <td>NaN</td>\n",
              "      <td>NaN</td>\n",
              "      <td>NaN</td>\n",
              "    </tr>\n",
              "    <tr>\n",
              "      <th>3</th>\n",
              "      <td>KE04</td>\n",
              "      <td>Tana River</td>\n",
              "      <td>315,943</td>\n",
              "      <td>158,550</td>\n",
              "      <td>157,391</td>\n",
              "      <td>68,242</td>\n",
              "      <td>8</td>\n",
              "      <td>NaN</td>\n",
              "      <td>NaN</td>\n",
              "      <td>NaN</td>\n",
              "      <td>NaN</td>\n",
              "      <td>NaN</td>\n",
              "      <td>NaN</td>\n",
              "    </tr>\n",
              "    <tr>\n",
              "      <th>4</th>\n",
              "      <td>KE05</td>\n",
              "      <td>Lamu</td>\n",
              "      <td>143,920</td>\n",
              "      <td>76,103</td>\n",
              "      <td>67,813</td>\n",
              "      <td>37,963</td>\n",
              "      <td>23</td>\n",
              "      <td>NaN</td>\n",
              "      <td>NaN</td>\n",
              "      <td>NaN</td>\n",
              "      <td>NaN</td>\n",
              "      <td>NaN</td>\n",
              "      <td>NaN</td>\n",
              "    </tr>\n",
              "  </tbody>\n",
              "</table>\n",
              "</div>"
            ],
            "text/plain": [
              "  COUNTY_PCODE COUNTY_NAME  ... Unnamed: 11 Unnamed: 12\n",
              "0         KE01     Mombasa  ...         NaN         NaN\n",
              "1         KE02       Kwale  ...         NaN         NaN\n",
              "2         KE03      Kilifi  ...         NaN         NaN\n",
              "3         KE04  Tana River  ...         NaN         NaN\n",
              "4         KE05        Lamu  ...         NaN         NaN\n",
              "\n",
              "[5 rows x 13 columns]"
            ]
          },
          "metadata": {
            "tags": []
          },
          "execution_count": 18
        }
      ]
    },
    {
      "cell_type": "code",
      "metadata": {
        "id": "NFQVhfhD8OAK",
        "colab": {
          "base_uri": "https://localhost:8080/",
          "height": 650
        },
        "outputId": "3ac0fe88-331b-47da-df1c-c058a440ad79"
      },
      "source": [
        "health_facilities = pd.read_excel('KEN Health_Facilities.csv')\n",
        "health_facilities.head(5)"
      ],
      "execution_count": null,
      "outputs": [
        {
          "output_type": "execute_result",
          "data": {
            "text/html": [
              "<div>\n",
              "<style scoped>\n",
              "    .dataframe tbody tr th:only-of-type {\n",
              "        vertical-align: middle;\n",
              "    }\n",
              "\n",
              "    .dataframe tbody tr th {\n",
              "        vertical-align: top;\n",
              "    }\n",
              "\n",
              "    .dataframe thead th {\n",
              "        text-align: right;\n",
              "    }\n",
              "</style>\n",
              "<table border=\"1\" class=\"dataframe\">\n",
              "  <thead>\n",
              "    <tr style=\"text-align: right;\">\n",
              "      <th></th>\n",
              "      <th>Facility Number</th>\n",
              "      <th>Facility Name</th>\n",
              "      <th>HMIS</th>\n",
              "      <th>Province</th>\n",
              "      <th>District</th>\n",
              "      <th>Division</th>\n",
              "      <th>LOCATION</th>\n",
              "      <th>County</th>\n",
              "      <th>Constituency</th>\n",
              "      <th>Sub-Location</th>\n",
              "      <th>Spatial Reference Method</th>\n",
              "      <th>Facility Type</th>\n",
              "      <th>Agency</th>\n",
              "      <th>Geolocation</th>\n",
              "      <th>Facility Type NAME</th>\n",
              "    </tr>\n",
              "  </thead>\n",
              "  <tbody>\n",
              "    <tr>\n",
              "      <th>0</th>\n",
              "      <td>29</td>\n",
              "      <td>KIAMBU DISTRICT HOSPITAL</td>\n",
              "      <td>251</td>\n",
              "      <td>CENTRAL</td>\n",
              "      <td>KIAMBU</td>\n",
              "      <td>KIAMBAA</td>\n",
              "      <td>KIAMBAA S/AREA</td>\n",
              "      <td>KIAMBU</td>\n",
              "      <td>GATUNDU NORTH</td>\n",
              "      <td>TOWNSHIP(KIAMBAA)</td>\n",
              "      <td>GPS</td>\n",
              "      <td>1</td>\n",
              "      <td>MOH</td>\n",
              "      <td>(-1.16938000000, 36.82993000000)</td>\n",
              "      <td>Hospital Moh and Mission Districts, sub-districts</td>\n",
              "    </tr>\n",
              "    <tr>\n",
              "      <th>1</th>\n",
              "      <td>36</td>\n",
              "      <td>KIJABE HOSPITAL</td>\n",
              "      <td>252</td>\n",
              "      <td>CENTRAL</td>\n",
              "      <td>KIAMBU</td>\n",
              "      <td>LARI</td>\n",
              "      <td>KIJABE</td>\n",
              "      <td>KIAMBU</td>\n",
              "      <td>GATUNDU NORTH</td>\n",
              "      <td>KIJABE</td>\n",
              "      <td>GPS</td>\n",
              "      <td>1</td>\n",
              "      <td>MISS</td>\n",
              "      <td>(-0.94349000000, 36.59431000000)</td>\n",
              "      <td>Hospital Moh and Mission Districts, sub-districts</td>\n",
              "    </tr>\n",
              "    <tr>\n",
              "      <th>2</th>\n",
              "      <td>51</td>\n",
              "      <td>NAZARETH HOSPITAL</td>\n",
              "      <td>255</td>\n",
              "      <td>CENTRAL</td>\n",
              "      <td>KIAMBU</td>\n",
              "      <td>LIMURU</td>\n",
              "      <td>KARAMBAINI</td>\n",
              "      <td>KIAMBU</td>\n",
              "      <td>GATUNDU NORTH</td>\n",
              "      <td>KARAMBAINI</td>\n",
              "      <td>1:50000 MAPS</td>\n",
              "      <td>1</td>\n",
              "      <td>MISS</td>\n",
              "      <td>(-1.13378000000, 36.72570000000)</td>\n",
              "      <td>Hospital Moh and Mission Districts, sub-districts</td>\n",
              "    </tr>\n",
              "    <tr>\n",
              "      <th>3</th>\n",
              "      <td>62</td>\n",
              "      <td>P.C.E.A. KIKUYU HOSPITAL</td>\n",
              "      <td>2441</td>\n",
              "      <td>CENTRAL</td>\n",
              "      <td>KIAMBU</td>\n",
              "      <td>KIKUYU</td>\n",
              "      <td>KIKUYU</td>\n",
              "      <td>KIAMBU</td>\n",
              "      <td>GATUNDU NORTH</td>\n",
              "      <td>KIKUYU TOWNSHIP</td>\n",
              "      <td>DDP</td>\n",
              "      <td>1</td>\n",
              "      <td>MISS</td>\n",
              "      <td>(-1.26667000000, 36.66670000000)</td>\n",
              "      <td>Hospital Moh and Mission Districts, sub-districts</td>\n",
              "    </tr>\n",
              "    <tr>\n",
              "      <th>4</th>\n",
              "      <td>66</td>\n",
              "      <td>TIGONI SUB-DISTRICT HOSPITAL</td>\n",
              "      <td>257</td>\n",
              "      <td>CENTRAL</td>\n",
              "      <td>KIAMBU</td>\n",
              "      <td>LIMURU</td>\n",
              "      <td>TIGONI</td>\n",
              "      <td>KIAMBU</td>\n",
              "      <td>GATUNDU NORTH</td>\n",
              "      <td>ITHANJI(KIAMBU)</td>\n",
              "      <td>DDP</td>\n",
              "      <td>1</td>\n",
              "      <td>MOH</td>\n",
              "      <td>(-1.12859000000, 36.64930000000)</td>\n",
              "      <td>Hospital Moh and Mission Districts, sub-districts</td>\n",
              "    </tr>\n",
              "  </tbody>\n",
              "</table>\n",
              "</div>"
            ],
            "text/plain": [
              "   Facility Number  ...                                 Facility Type NAME\n",
              "0               29  ...  Hospital Moh and Mission Districts, sub-districts\n",
              "1               36  ...  Hospital Moh and Mission Districts, sub-districts\n",
              "2               51  ...  Hospital Moh and Mission Districts, sub-districts\n",
              "3               62  ...  Hospital Moh and Mission Districts, sub-districts\n",
              "4               66  ...  Hospital Moh and Mission Districts, sub-districts\n",
              "\n",
              "[5 rows x 15 columns]"
            ]
          },
          "metadata": {
            "tags": []
          },
          "execution_count": 58
        }
      ]
    },
    {
      "cell_type": "code",
      "metadata": {
        "id": "yR-kBXZq8_Ga",
        "colab": {
          "base_uri": "https://localhost:8080/",
          "height": 402
        },
        "outputId": "f79d192e-5945-44c6-d178-f1b7d41b8025"
      },
      "source": [
        "ICU_beds = pd.read_csv('KHF Data.csv')\n",
        "ICU_beds.head(5)"
      ],
      "execution_count": null,
      "outputs": [
        {
          "output_type": "execute_result",
          "data": {
            "text/html": [
              "<div>\n",
              "<style scoped>\n",
              "    .dataframe tbody tr th:only-of-type {\n",
              "        vertical-align: middle;\n",
              "    }\n",
              "\n",
              "    .dataframe tbody tr th {\n",
              "        vertical-align: top;\n",
              "    }\n",
              "\n",
              "    .dataframe thead th {\n",
              "        text-align: right;\n",
              "    }\n",
              "</style>\n",
              "<table border=\"1\" class=\"dataframe\">\n",
              "  <thead>\n",
              "    <tr style=\"text-align: right;\">\n",
              "      <th></th>\n",
              "      <th>Cluster</th>\n",
              "      <th>County</th>\n",
              "      <th>Facility Name</th>\n",
              "      <th>Regular Isolation Beds Available</th>\n",
              "      <th>Regular Isolation Beds Recommended</th>\n",
              "      <th>Available ICU/Critical Care bed for Isolation</th>\n",
              "      <th>Recommended ICU/Critical beds for Isolation</th>\n",
              "      <th>Ventilators Available for Isoation</th>\n",
              "      <th>Ventilators Recommended for Isolation</th>\n",
              "      <th>ICU beds for General Patients(Public &amp; Private)</th>\n",
              "    </tr>\n",
              "  </thead>\n",
              "  <tbody>\n",
              "    <tr>\n",
              "      <th>0</th>\n",
              "      <td>North Rift</td>\n",
              "      <td>Elgeyo Marakwet</td>\n",
              "      <td>Iten Couty Referral Hospital</td>\n",
              "      <td>20.0</td>\n",
              "      <td>20.0</td>\n",
              "      <td>0.0</td>\n",
              "      <td>2.0</td>\n",
              "      <td>NaN</td>\n",
              "      <td>2.0</td>\n",
              "      <td>6.0</td>\n",
              "    </tr>\n",
              "    <tr>\n",
              "      <th>1</th>\n",
              "      <td>NaN</td>\n",
              "      <td>Nandi</td>\n",
              "      <td>Nandi Hills County Hospital</td>\n",
              "      <td>35.0</td>\n",
              "      <td>20.0</td>\n",
              "      <td>0.0</td>\n",
              "      <td>2.0</td>\n",
              "      <td>0.0</td>\n",
              "      <td>1.0</td>\n",
              "      <td>2.0</td>\n",
              "    </tr>\n",
              "    <tr>\n",
              "      <th>2</th>\n",
              "      <td>NaN</td>\n",
              "      <td>Tranzoia</td>\n",
              "      <td>Mt.Elgon Hospital</td>\n",
              "      <td>40.0</td>\n",
              "      <td>20.0</td>\n",
              "      <td>0.0</td>\n",
              "      <td>2.0</td>\n",
              "      <td>NaN</td>\n",
              "      <td>2.0</td>\n",
              "      <td>0.0</td>\n",
              "    </tr>\n",
              "    <tr>\n",
              "      <th>3</th>\n",
              "      <td>NaN</td>\n",
              "      <td>Turkana</td>\n",
              "      <td>Lodwar County Referral Hospital</td>\n",
              "      <td>12.0</td>\n",
              "      <td>20.0</td>\n",
              "      <td>0.0</td>\n",
              "      <td>2.0</td>\n",
              "      <td>NaN</td>\n",
              "      <td>2.0</td>\n",
              "      <td>3.0</td>\n",
              "    </tr>\n",
              "    <tr>\n",
              "      <th>4</th>\n",
              "      <td>NaN</td>\n",
              "      <td>Turkana</td>\n",
              "      <td>Lopiding Sub-County Hospital</td>\n",
              "      <td>0.0</td>\n",
              "      <td>20.0</td>\n",
              "      <td>0.0</td>\n",
              "      <td>2.0</td>\n",
              "      <td>NaN</td>\n",
              "      <td>2.0</td>\n",
              "      <td>NaN</td>\n",
              "    </tr>\n",
              "  </tbody>\n",
              "</table>\n",
              "</div>"
            ],
            "text/plain": [
              "      Cluster  ... ICU beds for General Patients(Public & Private)\n",
              "0  North Rift  ...                                             6.0\n",
              "1         NaN  ...                                             2.0\n",
              "2         NaN  ...                                             0.0\n",
              "3         NaN  ...                                             3.0\n",
              "4         NaN  ...                                             NaN\n",
              "\n",
              "[5 rows x 10 columns]"
            ]
          },
          "metadata": {
            "tags": []
          },
          "execution_count": 30
        }
      ]
    },
    {
      "cell_type": "code",
      "metadata": {
        "id": "a-IueuQF9nG7",
        "colab": {
          "base_uri": "https://localhost:8080/",
          "height": 191
        },
        "outputId": "3bfd7a61-cc4a-4e8d-b738-85ccc9804e3e"
      },
      "source": [
        "county_cases = pd.read_csv('Cases_per_county.csv')\n",
        "county_cases.head(5)"
      ],
      "execution_count": null,
      "outputs": [
        {
          "output_type": "execute_result",
          "data": {
            "text/html": [
              "<div>\n",
              "<style scoped>\n",
              "    .dataframe tbody tr th:only-of-type {\n",
              "        vertical-align: middle;\n",
              "    }\n",
              "\n",
              "    .dataframe tbody tr th {\n",
              "        vertical-align: top;\n",
              "    }\n",
              "\n",
              "    .dataframe thead th {\n",
              "        text-align: right;\n",
              "    }\n",
              "</style>\n",
              "<table border=\"1\" class=\"dataframe\">\n",
              "  <thead>\n",
              "    <tr style=\"text-align: right;\">\n",
              "      <th></th>\n",
              "      <th>S/N o</th>\n",
              "      <th>County</th>\n",
              "      <th>Population (2019Census KNBS)</th>\n",
              "      <th>Cumulative Cases</th>\n",
              "      <th>Cases per 100,000 population</th>\n",
              "    </tr>\n",
              "  </thead>\n",
              "  <tbody>\n",
              "    <tr>\n",
              "      <th>0</th>\n",
              "      <td>1.0</td>\n",
              "      <td>Nairobi City</td>\n",
              "      <td>4,397,073</td>\n",
              "      <td>8618.0</td>\n",
              "      <td>196.0</td>\n",
              "    </tr>\n",
              "    <tr>\n",
              "      <th>1</th>\n",
              "      <td>2.0</td>\n",
              "      <td>Mombasa</td>\n",
              "      <td>1,208,333</td>\n",
              "      <td>1870.0</td>\n",
              "      <td>154.8</td>\n",
              "    </tr>\n",
              "    <tr>\n",
              "      <th>2</th>\n",
              "      <td>3.0</td>\n",
              "      <td>Busia</td>\n",
              "      <td>893,681</td>\n",
              "      <td>662.0</td>\n",
              "      <td>74.1</td>\n",
              "    </tr>\n",
              "    <tr>\n",
              "      <th>3</th>\n",
              "      <td>4.0</td>\n",
              "      <td>Kajiado</td>\n",
              "      <td>1,117,840</td>\n",
              "      <td>774.0</td>\n",
              "      <td>69.2</td>\n",
              "    </tr>\n",
              "    <tr>\n",
              "      <th>4</th>\n",
              "      <td>5.0</td>\n",
              "      <td>Kiambu</td>\n",
              "      <td>2,417,735</td>\n",
              "      <td>907.0</td>\n",
              "      <td>37.5</td>\n",
              "    </tr>\n",
              "  </tbody>\n",
              "</table>\n",
              "</div>"
            ],
            "text/plain": [
              "   S/N o        County  ... Cumulative Cases  Cases per 100,000 population\n",
              "0    1.0  Nairobi City  ...           8618.0                         196.0\n",
              "1    2.0       Mombasa  ...           1870.0                         154.8\n",
              "2    3.0         Busia  ...            662.0                          74.1\n",
              "3    4.0       Kajiado  ...            774.0                          69.2\n",
              "4    5.0        Kiambu  ...            907.0                          37.5\n",
              "\n",
              "[5 rows x 5 columns]"
            ]
          },
          "metadata": {
            "tags": []
          },
          "execution_count": 11
        }
      ]
    },
    {
      "cell_type": "markdown",
      "metadata": {
        "id": "TfdIpvZbBgYn"
      },
      "source": [
        "## 3.3 Renaming Columns"
      ]
    },
    {
      "cell_type": "code",
      "metadata": {
        "id": "vDFsvCDKCfG5",
        "colab": {
          "base_uri": "https://localhost:8080/",
          "height": 256
        },
        "outputId": "f8e76800-7df1-44d4-ff73-629c3cbcc372"
      },
      "source": [
        "#renaming columns\n",
        "county_population.rename(columns = {'COUNTY_PCODE': 'County_PCODE', 'COUNTY_NAME': 'County', '2019_POPULATION': '2019_Population', 'MALE': 'Male', 'FEMALE': 'Female', 'TOTAL_HOUSEHOLDS': 'Total_Households', 'Density \\n(Persons Per Sq. Km)' : 'Density'}, inplace = True)\n",
        "#view \n",
        "print(county_population.columns)\n",
        "county_population.head(5)"
      ],
      "execution_count": null,
      "outputs": [
        {
          "output_type": "stream",
          "text": [
            "Index(['County_PCODE', 'County', '2019_Population', 'Male', 'Female',\n",
            "       'Total_Households', 'Density', 'Unnamed: 7', 'Unnamed: 8', 'Unnamed: 9',\n",
            "       'Unnamed: 10', 'Unnamed: 11', 'Unnamed: 12'],\n",
            "      dtype='object')\n"
          ],
          "name": "stdout"
        },
        {
          "output_type": "execute_result",
          "data": {
            "text/html": [
              "<div>\n",
              "<style scoped>\n",
              "    .dataframe tbody tr th:only-of-type {\n",
              "        vertical-align: middle;\n",
              "    }\n",
              "\n",
              "    .dataframe tbody tr th {\n",
              "        vertical-align: top;\n",
              "    }\n",
              "\n",
              "    .dataframe thead th {\n",
              "        text-align: right;\n",
              "    }\n",
              "</style>\n",
              "<table border=\"1\" class=\"dataframe\">\n",
              "  <thead>\n",
              "    <tr style=\"text-align: right;\">\n",
              "      <th></th>\n",
              "      <th>County_PCODE</th>\n",
              "      <th>County</th>\n",
              "      <th>2019_Population</th>\n",
              "      <th>Male</th>\n",
              "      <th>Female</th>\n",
              "      <th>Total_Households</th>\n",
              "      <th>Density</th>\n",
              "      <th>Unnamed: 7</th>\n",
              "      <th>Unnamed: 8</th>\n",
              "      <th>Unnamed: 9</th>\n",
              "      <th>Unnamed: 10</th>\n",
              "      <th>Unnamed: 11</th>\n",
              "      <th>Unnamed: 12</th>\n",
              "    </tr>\n",
              "  </thead>\n",
              "  <tbody>\n",
              "    <tr>\n",
              "      <th>0</th>\n",
              "      <td>KE01</td>\n",
              "      <td>Mombasa</td>\n",
              "      <td>1,208,333</td>\n",
              "      <td>610,257</td>\n",
              "      <td>598,046</td>\n",
              "      <td>378,422</td>\n",
              "      <td>5,495</td>\n",
              "      <td>NaN</td>\n",
              "      <td>NaN</td>\n",
              "      <td>NaN</td>\n",
              "      <td>NaN</td>\n",
              "      <td>NaN</td>\n",
              "      <td>NaN</td>\n",
              "    </tr>\n",
              "    <tr>\n",
              "      <th>1</th>\n",
              "      <td>KE02</td>\n",
              "      <td>Kwale</td>\n",
              "      <td>866,820</td>\n",
              "      <td>425,121</td>\n",
              "      <td>441,681</td>\n",
              "      <td>173,176</td>\n",
              "      <td>105</td>\n",
              "      <td>NaN</td>\n",
              "      <td>NaN</td>\n",
              "      <td>NaN</td>\n",
              "      <td>NaN</td>\n",
              "      <td>NaN</td>\n",
              "      <td>NaN</td>\n",
              "    </tr>\n",
              "    <tr>\n",
              "      <th>2</th>\n",
              "      <td>KE03</td>\n",
              "      <td>Kilifi</td>\n",
              "      <td>1,453,787</td>\n",
              "      <td>704,089</td>\n",
              "      <td>749,673</td>\n",
              "      <td>298,472</td>\n",
              "      <td>116</td>\n",
              "      <td>NaN</td>\n",
              "      <td>NaN</td>\n",
              "      <td>NaN</td>\n",
              "      <td>NaN</td>\n",
              "      <td>NaN</td>\n",
              "      <td>NaN</td>\n",
              "    </tr>\n",
              "    <tr>\n",
              "      <th>3</th>\n",
              "      <td>KE04</td>\n",
              "      <td>Tana River</td>\n",
              "      <td>315,943</td>\n",
              "      <td>158,550</td>\n",
              "      <td>157,391</td>\n",
              "      <td>68,242</td>\n",
              "      <td>8</td>\n",
              "      <td>NaN</td>\n",
              "      <td>NaN</td>\n",
              "      <td>NaN</td>\n",
              "      <td>NaN</td>\n",
              "      <td>NaN</td>\n",
              "      <td>NaN</td>\n",
              "    </tr>\n",
              "    <tr>\n",
              "      <th>4</th>\n",
              "      <td>KE05</td>\n",
              "      <td>Lamu</td>\n",
              "      <td>143,920</td>\n",
              "      <td>76,103</td>\n",
              "      <td>67,813</td>\n",
              "      <td>37,963</td>\n",
              "      <td>23</td>\n",
              "      <td>NaN</td>\n",
              "      <td>NaN</td>\n",
              "      <td>NaN</td>\n",
              "      <td>NaN</td>\n",
              "      <td>NaN</td>\n",
              "      <td>NaN</td>\n",
              "    </tr>\n",
              "  </tbody>\n",
              "</table>\n",
              "</div>"
            ],
            "text/plain": [
              "  County_PCODE      County  ... Unnamed: 11 Unnamed: 12\n",
              "0         KE01     Mombasa  ...         NaN         NaN\n",
              "1         KE02       Kwale  ...         NaN         NaN\n",
              "2         KE03      Kilifi  ...         NaN         NaN\n",
              "3         KE04  Tana River  ...         NaN         NaN\n",
              "4         KE05        Lamu  ...         NaN         NaN\n",
              "\n",
              "[5 rows x 13 columns]"
            ]
          },
          "metadata": {
            "tags": []
          },
          "execution_count": 19
        }
      ]
    },
    {
      "cell_type": "markdown",
      "metadata": {
        "id": "45x9dk8rNyL1"
      },
      "source": [
        "## 3.4 Dropping Columns and Rows"
      ]
    },
    {
      "cell_type": "code",
      "metadata": {
        "id": "BHtHEDzbN30m",
        "colab": {
          "base_uri": "https://localhost:8080/",
          "height": 191
        },
        "outputId": "039b99e8-c820-491c-cf27-b797e136923b"
      },
      "source": [
        "# Dropping columns 'County_PCODE', 'Total_households' , 'Density (Persons Per Sq. Km'un\n",
        "to_drop = county_population.columns.to_list()[7:]\n",
        "to_drop.append('County_PCODE')\n",
        "to_drop.append('Total_Households')\n",
        "county_population.drop(to_drop, axis = 1, inplace= True)\n",
        "county_population.head(5)"
      ],
      "execution_count": null,
      "outputs": [
        {
          "output_type": "execute_result",
          "data": {
            "text/html": [
              "<div>\n",
              "<style scoped>\n",
              "    .dataframe tbody tr th:only-of-type {\n",
              "        vertical-align: middle;\n",
              "    }\n",
              "\n",
              "    .dataframe tbody tr th {\n",
              "        vertical-align: top;\n",
              "    }\n",
              "\n",
              "    .dataframe thead th {\n",
              "        text-align: right;\n",
              "    }\n",
              "</style>\n",
              "<table border=\"1\" class=\"dataframe\">\n",
              "  <thead>\n",
              "    <tr style=\"text-align: right;\">\n",
              "      <th></th>\n",
              "      <th>County</th>\n",
              "      <th>2019_Population</th>\n",
              "      <th>Male</th>\n",
              "      <th>Female</th>\n",
              "      <th>Density</th>\n",
              "    </tr>\n",
              "  </thead>\n",
              "  <tbody>\n",
              "    <tr>\n",
              "      <th>0</th>\n",
              "      <td>Mombasa</td>\n",
              "      <td>1,208,333</td>\n",
              "      <td>610,257</td>\n",
              "      <td>598,046</td>\n",
              "      <td>5,495</td>\n",
              "    </tr>\n",
              "    <tr>\n",
              "      <th>1</th>\n",
              "      <td>Kwale</td>\n",
              "      <td>866,820</td>\n",
              "      <td>425,121</td>\n",
              "      <td>441,681</td>\n",
              "      <td>105</td>\n",
              "    </tr>\n",
              "    <tr>\n",
              "      <th>2</th>\n",
              "      <td>Kilifi</td>\n",
              "      <td>1,453,787</td>\n",
              "      <td>704,089</td>\n",
              "      <td>749,673</td>\n",
              "      <td>116</td>\n",
              "    </tr>\n",
              "    <tr>\n",
              "      <th>3</th>\n",
              "      <td>Tana River</td>\n",
              "      <td>315,943</td>\n",
              "      <td>158,550</td>\n",
              "      <td>157,391</td>\n",
              "      <td>8</td>\n",
              "    </tr>\n",
              "    <tr>\n",
              "      <th>4</th>\n",
              "      <td>Lamu</td>\n",
              "      <td>143,920</td>\n",
              "      <td>76,103</td>\n",
              "      <td>67,813</td>\n",
              "      <td>23</td>\n",
              "    </tr>\n",
              "  </tbody>\n",
              "</table>\n",
              "</div>"
            ],
            "text/plain": [
              "       County 2019_Population       Male     Female  Density\n",
              "0     Mombasa      1,208,333    610,257    598,046    5,495 \n",
              "1       Kwale        866,820    425,121    441,681      105 \n",
              "2      Kilifi      1,453,787    704,089    749,673      116 \n",
              "3  Tana River        315,943    158,550    157,391        8 \n",
              "4        Lamu        143,920     76,103     67,813       23 "
            ]
          },
          "metadata": {
            "tags": []
          },
          "execution_count": 20
        }
      ]
    },
    {
      "cell_type": "code",
      "metadata": {
        "id": "bS6mb6WOvBoA",
        "colab": {
          "base_uri": "https://localhost:8080/",
          "height": 33
        },
        "outputId": "fe2d6d32-cdab-421c-e472-efa4502f2fcf"
      },
      "source": [
        "county_population.duplicated().sum()"
      ],
      "execution_count": null,
      "outputs": [
        {
          "output_type": "execute_result",
          "data": {
            "text/plain": [
              "13"
            ]
          },
          "metadata": {
            "tags": []
          },
          "execution_count": 51
        }
      ]
    },
    {
      "cell_type": "code",
      "metadata": {
        "id": "SkOkVAExvIn3"
      },
      "source": [
        "county_population.dropna(inplace=True)"
      ],
      "execution_count": null,
      "outputs": []
    },
    {
      "cell_type": "code",
      "metadata": {
        "id": "FYDxNdaEVC10",
        "colab": {
          "base_uri": "https://localhost:8080/",
          "height": 191
        },
        "outputId": "a280c4f2-be6d-401a-f63b-8d5d1450e99e"
      },
      "source": [
        "# Dropping columns \n",
        "health_facilities.drop(['Facility Number', 'HMIS',\t'Province',\t'District',\t'Division',\t'LOCATION', 'Constituency',\t'Sub-Location',\t'Spatial Reference Method',\t'Facility Type',\t'Agency',\t'Geolocation',\t'Facility Type NAME'], axis = 1, inplace = True)\n",
        "health_facilities.head(5)"
      ],
      "execution_count": null,
      "outputs": [
        {
          "output_type": "execute_result",
          "data": {
            "text/html": [
              "<div>\n",
              "<style scoped>\n",
              "    .dataframe tbody tr th:only-of-type {\n",
              "        vertical-align: middle;\n",
              "    }\n",
              "\n",
              "    .dataframe tbody tr th {\n",
              "        vertical-align: top;\n",
              "    }\n",
              "\n",
              "    .dataframe thead th {\n",
              "        text-align: right;\n",
              "    }\n",
              "</style>\n",
              "<table border=\"1\" class=\"dataframe\">\n",
              "  <thead>\n",
              "    <tr style=\"text-align: right;\">\n",
              "      <th></th>\n",
              "      <th>Facility Name</th>\n",
              "      <th>County</th>\n",
              "    </tr>\n",
              "  </thead>\n",
              "  <tbody>\n",
              "    <tr>\n",
              "      <th>0</th>\n",
              "      <td>KIAMBU DISTRICT HOSPITAL</td>\n",
              "      <td>KIAMBU</td>\n",
              "    </tr>\n",
              "    <tr>\n",
              "      <th>1</th>\n",
              "      <td>KIJABE HOSPITAL</td>\n",
              "      <td>KIAMBU</td>\n",
              "    </tr>\n",
              "    <tr>\n",
              "      <th>2</th>\n",
              "      <td>NAZARETH HOSPITAL</td>\n",
              "      <td>KIAMBU</td>\n",
              "    </tr>\n",
              "    <tr>\n",
              "      <th>3</th>\n",
              "      <td>P.C.E.A. KIKUYU HOSPITAL</td>\n",
              "      <td>KIAMBU</td>\n",
              "    </tr>\n",
              "    <tr>\n",
              "      <th>4</th>\n",
              "      <td>TIGONI SUB-DISTRICT HOSPITAL</td>\n",
              "      <td>KIAMBU</td>\n",
              "    </tr>\n",
              "  </tbody>\n",
              "</table>\n",
              "</div>"
            ],
            "text/plain": [
              "                  Facility Name  County\n",
              "0      KIAMBU DISTRICT HOSPITAL  KIAMBU\n",
              "1               KIJABE HOSPITAL  KIAMBU\n",
              "2             NAZARETH HOSPITAL  KIAMBU\n",
              "3      P.C.E.A. KIKUYU HOSPITAL  KIAMBU\n",
              "4  TIGONI SUB-DISTRICT HOSPITAL  KIAMBU"
            ]
          },
          "metadata": {
            "tags": []
          },
          "execution_count": 59
        }
      ]
    },
    {
      "cell_type": "code",
      "metadata": {
        "id": "MFa2RgLZwo18",
        "colab": {
          "base_uri": "https://localhost:8080/",
          "height": 66
        },
        "outputId": "ec7d69e9-7952-4546-d872-9a8522738378"
      },
      "source": [
        "health_facilities.isnull().sum()"
      ],
      "execution_count": null,
      "outputs": [
        {
          "output_type": "execute_result",
          "data": {
            "text/plain": [
              "Facility Name       2\n",
              "County           1907\n",
              "dtype: int64"
            ]
          },
          "metadata": {
            "tags": []
          },
          "execution_count": 60
        }
      ]
    },
    {
      "cell_type": "code",
      "metadata": {
        "id": "qKLPfaHYw12s"
      },
      "source": [
        "health_facilities.dropna(inplace=True)"
      ],
      "execution_count": null,
      "outputs": []
    },
    {
      "cell_type": "code",
      "metadata": {
        "id": "OgMMAxleshsb",
        "colab": {
          "base_uri": "https://localhost:8080/",
          "height": 34
        },
        "outputId": "054dfc01-239b-4f7e-97fa-c47aab01b610"
      },
      "source": [
        "health_facilities.duplicated().sum()"
      ],
      "execution_count": null,
      "outputs": [
        {
          "output_type": "execute_result",
          "data": {
            "text/plain": [
              "27"
            ]
          },
          "metadata": {
            "tags": []
          },
          "execution_count": 69
        }
      ]
    },
    {
      "cell_type": "code",
      "metadata": {
        "id": "i-Mz7SMssr71"
      },
      "source": [
        "health_facilities.drop_duplicates(inplace=True)"
      ],
      "execution_count": null,
      "outputs": []
    },
    {
      "cell_type": "code",
      "metadata": {
        "id": "xacTBzh8XMXc",
        "colab": {
          "base_uri": "https://localhost:8080/",
          "height": 386
        },
        "outputId": "a5f72731-d78c-4df4-b60d-b26bc80469c6"
      },
      "source": [
        "# Drop Column: 'Cluster'\n",
        "ICU_beds.drop('Cluster', axis = 1, inplace = True)\n",
        "ICU_beds.head()"
      ],
      "execution_count": null,
      "outputs": [
        {
          "output_type": "execute_result",
          "data": {
            "text/html": [
              "<div>\n",
              "<style scoped>\n",
              "    .dataframe tbody tr th:only-of-type {\n",
              "        vertical-align: middle;\n",
              "    }\n",
              "\n",
              "    .dataframe tbody tr th {\n",
              "        vertical-align: top;\n",
              "    }\n",
              "\n",
              "    .dataframe thead th {\n",
              "        text-align: right;\n",
              "    }\n",
              "</style>\n",
              "<table border=\"1\" class=\"dataframe\">\n",
              "  <thead>\n",
              "    <tr style=\"text-align: right;\">\n",
              "      <th></th>\n",
              "      <th>County</th>\n",
              "      <th>Facility Name</th>\n",
              "      <th>Regular Isolation Beds Available</th>\n",
              "      <th>Regular Isolation Beds Recommended</th>\n",
              "      <th>Available ICU/Critical Care bed for Isolation</th>\n",
              "      <th>Recommended ICU/Critical beds for Isolation</th>\n",
              "      <th>Ventilators Available for Isoation</th>\n",
              "      <th>Ventilators Recommended for Isolation</th>\n",
              "      <th>ICU beds for General Patients(Public &amp; Private)</th>\n",
              "    </tr>\n",
              "  </thead>\n",
              "  <tbody>\n",
              "    <tr>\n",
              "      <th>0</th>\n",
              "      <td>Elgeyo Marakwet</td>\n",
              "      <td>Iten Couty Referral Hospital</td>\n",
              "      <td>20.0</td>\n",
              "      <td>20.0</td>\n",
              "      <td>0.0</td>\n",
              "      <td>2.0</td>\n",
              "      <td>NaN</td>\n",
              "      <td>2.0</td>\n",
              "      <td>6.0</td>\n",
              "    </tr>\n",
              "    <tr>\n",
              "      <th>1</th>\n",
              "      <td>Nandi</td>\n",
              "      <td>Nandi Hills County Hospital</td>\n",
              "      <td>35.0</td>\n",
              "      <td>20.0</td>\n",
              "      <td>0.0</td>\n",
              "      <td>2.0</td>\n",
              "      <td>0.0</td>\n",
              "      <td>1.0</td>\n",
              "      <td>2.0</td>\n",
              "    </tr>\n",
              "    <tr>\n",
              "      <th>2</th>\n",
              "      <td>Tranzoia</td>\n",
              "      <td>Mt.Elgon Hospital</td>\n",
              "      <td>40.0</td>\n",
              "      <td>20.0</td>\n",
              "      <td>0.0</td>\n",
              "      <td>2.0</td>\n",
              "      <td>NaN</td>\n",
              "      <td>2.0</td>\n",
              "      <td>0.0</td>\n",
              "    </tr>\n",
              "    <tr>\n",
              "      <th>3</th>\n",
              "      <td>Turkana</td>\n",
              "      <td>Lodwar County Referral Hospital</td>\n",
              "      <td>12.0</td>\n",
              "      <td>20.0</td>\n",
              "      <td>0.0</td>\n",
              "      <td>2.0</td>\n",
              "      <td>NaN</td>\n",
              "      <td>2.0</td>\n",
              "      <td>3.0</td>\n",
              "    </tr>\n",
              "    <tr>\n",
              "      <th>4</th>\n",
              "      <td>Turkana</td>\n",
              "      <td>Lopiding Sub-County Hospital</td>\n",
              "      <td>0.0</td>\n",
              "      <td>20.0</td>\n",
              "      <td>0.0</td>\n",
              "      <td>2.0</td>\n",
              "      <td>NaN</td>\n",
              "      <td>2.0</td>\n",
              "      <td>NaN</td>\n",
              "    </tr>\n",
              "  </tbody>\n",
              "</table>\n",
              "</div>"
            ],
            "text/plain": [
              "            County  ... ICU beds for General Patients(Public & Private)\n",
              "0  Elgeyo Marakwet  ...                                             6.0\n",
              "1            Nandi  ...                                             2.0\n",
              "2         Tranzoia  ...                                             0.0\n",
              "3          Turkana  ...                                             3.0\n",
              "4          Turkana  ...                                             NaN\n",
              "\n",
              "[5 rows x 9 columns]"
            ]
          },
          "metadata": {
            "tags": []
          },
          "execution_count": 31
        }
      ]
    },
    {
      "cell_type": "code",
      "metadata": {
        "id": "b9XUkb_1Khrw"
      },
      "source": [
        "\n",
        "#Drop rows with the following in the county column\n",
        "ICU_beds = ICU_beds[~ICU_beds.County.isin(['Regional Subtotal','Regional Sub Total','Regional Sub-total'])]\n"
      ],
      "execution_count": null,
      "outputs": []
    },
    {
      "cell_type": "code",
      "metadata": {
        "id": "Oz7Ybj6dm_df",
        "colab": {
          "base_uri": "https://localhost:8080/",
          "height": 33
        },
        "outputId": "135ab12d-df19-4f32-85c5-7f64ba8577c3"
      },
      "source": [
        "ICU_beds.duplicated().any()"
      ],
      "execution_count": null,
      "outputs": [
        {
          "output_type": "execute_result",
          "data": {
            "text/plain": [
              "False"
            ]
          },
          "metadata": {
            "tags": []
          },
          "execution_count": 38
        }
      ]
    },
    {
      "cell_type": "code",
      "metadata": {
        "id": "Q5mai5zptYsQ",
        "colab": {
          "base_uri": "https://localhost:8080/",
          "height": 98
        },
        "outputId": "4e512884-25f0-4f8a-f683-d4c807761a8a"
      },
      "source": [
        "ICU_beds.dropna(subset=['County'], inplace=True)"
      ],
      "execution_count": null,
      "outputs": [
        {
          "output_type": "stream",
          "text": [
            "/usr/local/lib/python3.6/dist-packages/ipykernel_launcher.py:1: SettingWithCopyWarning: \n",
            "A value is trying to be set on a copy of a slice from a DataFrame\n",
            "\n",
            "See the caveats in the documentation: https://pandas.pydata.org/pandas-docs/stable/user_guide/indexing.html#returning-a-view-versus-a-copy\n",
            "  \"\"\"Entry point for launching an IPython kernel.\n"
          ],
          "name": "stderr"
        }
      ]
    },
    {
      "cell_type": "code",
      "metadata": {
        "id": "d6HRZBx1uNWO",
        "colab": {
          "base_uri": "https://localhost:8080/",
          "height": 180
        },
        "outputId": "d8dfe9c8-c242-4407-e10b-64b3f17c5bec"
      },
      "source": [
        "ICU_beds.isnull().sum()"
      ],
      "execution_count": null,
      "outputs": [
        {
          "output_type": "execute_result",
          "data": {
            "text/plain": [
              "County                                              0\n",
              "Facility Name                                       1\n",
              "Regular Isolation Beds Available                    1\n",
              "Regular Isolation Beds Recommended                  1\n",
              "Available ICU/Critical Care bed for Isolation       1\n",
              "Recommended ICU/Critical beds for Isolation         1\n",
              "Ventilators Available for Isoation                 75\n",
              "Ventilators Recommended for Isolation              15\n",
              "ICU beds for General Patients(Public & Private)    57\n",
              "dtype: int64"
            ]
          },
          "metadata": {
            "tags": []
          },
          "execution_count": 45
        }
      ]
    },
    {
      "cell_type": "code",
      "metadata": {
        "id": "E8ZkEtabYu7D",
        "colab": {
          "base_uri": "https://localhost:8080/",
          "height": 191
        },
        "outputId": "9cde61f5-4726-4943-a9c1-8c5af37790ba"
      },
      "source": [
        "# Drop column: 'S/N o'\n",
        "county_cases.drop('S/N o', axis = 1, inplace = True)\n",
        "county_cases.head(5)"
      ],
      "execution_count": null,
      "outputs": [
        {
          "output_type": "execute_result",
          "data": {
            "text/html": [
              "<div>\n",
              "<style scoped>\n",
              "    .dataframe tbody tr th:only-of-type {\n",
              "        vertical-align: middle;\n",
              "    }\n",
              "\n",
              "    .dataframe tbody tr th {\n",
              "        vertical-align: top;\n",
              "    }\n",
              "\n",
              "    .dataframe thead th {\n",
              "        text-align: right;\n",
              "    }\n",
              "</style>\n",
              "<table border=\"1\" class=\"dataframe\">\n",
              "  <thead>\n",
              "    <tr style=\"text-align: right;\">\n",
              "      <th></th>\n",
              "      <th>County</th>\n",
              "      <th>Population (2019Census KNBS)</th>\n",
              "      <th>Cumulative Cases</th>\n",
              "      <th>Cases per 100,000 population</th>\n",
              "    </tr>\n",
              "  </thead>\n",
              "  <tbody>\n",
              "    <tr>\n",
              "      <th>0</th>\n",
              "      <td>Nairobi City</td>\n",
              "      <td>4,397,073</td>\n",
              "      <td>8618.0</td>\n",
              "      <td>196.0</td>\n",
              "    </tr>\n",
              "    <tr>\n",
              "      <th>1</th>\n",
              "      <td>Mombasa</td>\n",
              "      <td>1,208,333</td>\n",
              "      <td>1870.0</td>\n",
              "      <td>154.8</td>\n",
              "    </tr>\n",
              "    <tr>\n",
              "      <th>2</th>\n",
              "      <td>Busia</td>\n",
              "      <td>893,681</td>\n",
              "      <td>662.0</td>\n",
              "      <td>74.1</td>\n",
              "    </tr>\n",
              "    <tr>\n",
              "      <th>3</th>\n",
              "      <td>Kajiado</td>\n",
              "      <td>1,117,840</td>\n",
              "      <td>774.0</td>\n",
              "      <td>69.2</td>\n",
              "    </tr>\n",
              "    <tr>\n",
              "      <th>4</th>\n",
              "      <td>Kiambu</td>\n",
              "      <td>2,417,735</td>\n",
              "      <td>907.0</td>\n",
              "      <td>37.5</td>\n",
              "    </tr>\n",
              "  </tbody>\n",
              "</table>\n",
              "</div>"
            ],
            "text/plain": [
              "         County  ... Cases per 100,000 population\n",
              "0  Nairobi City  ...                        196.0\n",
              "1       Mombasa  ...                        154.8\n",
              "2         Busia  ...                         74.1\n",
              "3       Kajiado  ...                         69.2\n",
              "4        Kiambu  ...                         37.5\n",
              "\n",
              "[5 rows x 4 columns]"
            ]
          },
          "metadata": {
            "tags": []
          },
          "execution_count": 46
        }
      ]
    },
    {
      "cell_type": "code",
      "metadata": {
        "id": "cNLbnI6TuZl0",
        "colab": {
          "base_uri": "https://localhost:8080/",
          "height": 33
        },
        "outputId": "5956d721-84eb-4dfd-d948-7b3f87bc146d"
      },
      "source": [
        "county_cases.duplicated().sum()"
      ],
      "execution_count": null,
      "outputs": [
        {
          "output_type": "execute_result",
          "data": {
            "text/plain": [
              "0"
            ]
          },
          "metadata": {
            "tags": []
          },
          "execution_count": 47
        }
      ]
    },
    {
      "cell_type": "code",
      "metadata": {
        "id": "AaWDy9B6ug68",
        "colab": {
          "base_uri": "https://localhost:8080/",
          "height": 98
        },
        "outputId": "2a3a5369-fa6c-48a4-f38d-2b6beff0f078"
      },
      "source": [
        "county_cases.isnull().sum()"
      ],
      "execution_count": null,
      "outputs": [
        {
          "output_type": "execute_result",
          "data": {
            "text/plain": [
              "County                          0\n",
              "Population (2019Census KNBS)    0\n",
              "Cumulative Cases                0\n",
              "Cases per 100,000 population    0\n",
              "dtype: int64"
            ]
          },
          "metadata": {
            "tags": []
          },
          "execution_count": 50
        }
      ]
    },
    {
      "cell_type": "code",
      "metadata": {
        "id": "8WCCPnnWusgm"
      },
      "source": [
        "county_cases.dropna(subset=['County'], inplace=True)"
      ],
      "execution_count": null,
      "outputs": []
    },
    {
      "cell_type": "code",
      "metadata": {
        "id": "Lt973xGoveN3",
        "colab": {
          "base_uri": "https://localhost:8080/",
          "height": 33
        },
        "outputId": "0a7be190-5cd8-4f4b-b0ec-f0a4f51de63b"
      },
      "source": [
        "county_cases.shape"
      ],
      "execution_count": null,
      "outputs": [
        {
          "output_type": "execute_result",
          "data": {
            "text/plain": [
              "(44, 4)"
            ]
          },
          "metadata": {
            "tags": []
          },
          "execution_count": 53
        }
      ]
    },
    {
      "cell_type": "markdown",
      "metadata": {
        "id": "uCgSJLN-Z8hy"
      },
      "source": [
        "## 3.5 Merge the four Datasets to one main Dataframe"
      ]
    },
    {
      "cell_type": "code",
      "metadata": {
        "id": "VY-7srRaUl1i",
        "colab": {
          "base_uri": "https://localhost:8080/",
          "height": 33
        },
        "outputId": "e0e548f9-74e0-4b2d-d66d-d33cb1d512b2"
      },
      "source": [
        "matched_counties = set(county_population.County.to_list()).intersection(set(county_cases.County.to_list()))\n",
        "len(matched_counties)"
      ],
      "execution_count": null,
      "outputs": [
        {
          "output_type": "execute_result",
          "data": {
            "text/plain": [
              "41"
            ]
          },
          "metadata": {
            "tags": []
          },
          "execution_count": 72
        }
      ]
    },
    {
      "cell_type": "code",
      "metadata": {
        "id": "mJzaUPEZ1KD9",
        "colab": {
          "base_uri": "https://localhost:8080/",
          "height": 115
        },
        "outputId": "0f1dd6af-40ae-4636-bce7-56e015c48250"
      },
      "source": [
        "set(county_population.County.to_list()).difference(set(county_cases.County.to_list()))"
      ],
      "execution_count": null,
      "outputs": [
        {
          "output_type": "execute_result",
          "data": {
            "text/plain": [
              "{'Baringo',\n",
              " 'Elgeyo-Marakwet',\n",
              " 'Nairobi',\n",
              " 'Samburu',\n",
              " 'Taita Taveta',\n",
              " 'West Pokot'}"
            ]
          },
          "metadata": {
            "tags": []
          },
          "execution_count": 74
        }
      ]
    },
    {
      "cell_type": "code",
      "metadata": {
        "id": "KhF9Bjbj1q1U",
        "colab": {
          "base_uri": "https://localhost:8080/",
          "height": 33
        },
        "outputId": "7ba4f8f8-ca7d-4684-e58c-c6497065762a"
      },
      "source": [
        "set(county_cases.County.to_list()).difference(set(county_population.County.to_list()))"
      ],
      "execution_count": null,
      "outputs": [
        {
          "output_type": "execute_result",
          "data": {
            "text/plain": [
              "set()"
            ]
          },
          "metadata": {
            "tags": []
          },
          "execution_count": 78
        }
      ]
    },
    {
      "cell_type": "code",
      "metadata": {
        "id": "-ctxn2XA2O_V"
      },
      "source": [
        "county_cases['County'].replace({'Elgeyo/Marakwet':'Elgeyo-Marakwet','Nairobi City':'Nairobi','Taita/Taveta':'Taita Taveta'},inplace=True)"
      ],
      "execution_count": null,
      "outputs": []
    },
    {
      "cell_type": "code",
      "metadata": {
        "id": "qN4Uf1OE4VIe"
      },
      "source": [
        "pop_cases = pd.merge(county_cases, county_population, on='County')"
      ],
      "execution_count": null,
      "outputs": []
    },
    {
      "cell_type": "code",
      "metadata": {
        "id": "AsfYLefs4uqE",
        "colab": {
          "base_uri": "https://localhost:8080/",
          "height": 191
        },
        "outputId": "be24fb8d-02a6-49de-a870-427dfd9370e7"
      },
      "source": [
        "pop_cases.drop(['Population (2019Census KNBS)'], axis=1, inplace=True)\n",
        "pop_cases.head()"
      ],
      "execution_count": null,
      "outputs": [
        {
          "output_type": "execute_result",
          "data": {
            "text/html": [
              "<div>\n",
              "<style scoped>\n",
              "    .dataframe tbody tr th:only-of-type {\n",
              "        vertical-align: middle;\n",
              "    }\n",
              "\n",
              "    .dataframe tbody tr th {\n",
              "        vertical-align: top;\n",
              "    }\n",
              "\n",
              "    .dataframe thead th {\n",
              "        text-align: right;\n",
              "    }\n",
              "</style>\n",
              "<table border=\"1\" class=\"dataframe\">\n",
              "  <thead>\n",
              "    <tr style=\"text-align: right;\">\n",
              "      <th></th>\n",
              "      <th>County</th>\n",
              "      <th>Cumulative Cases</th>\n",
              "      <th>Cases per 100,000 population</th>\n",
              "      <th>2019_Population</th>\n",
              "      <th>Male</th>\n",
              "      <th>Female</th>\n",
              "      <th>Density</th>\n",
              "    </tr>\n",
              "  </thead>\n",
              "  <tbody>\n",
              "    <tr>\n",
              "      <th>0</th>\n",
              "      <td>Nairobi</td>\n",
              "      <td>8618.0</td>\n",
              "      <td>196.0</td>\n",
              "      <td>4,397,073</td>\n",
              "      <td>2,192,452</td>\n",
              "      <td>2,204,376</td>\n",
              "      <td>6,247</td>\n",
              "    </tr>\n",
              "    <tr>\n",
              "      <th>1</th>\n",
              "      <td>Mombasa</td>\n",
              "      <td>1870.0</td>\n",
              "      <td>154.8</td>\n",
              "      <td>1,208,333</td>\n",
              "      <td>610,257</td>\n",
              "      <td>598,046</td>\n",
              "      <td>5,495</td>\n",
              "    </tr>\n",
              "    <tr>\n",
              "      <th>2</th>\n",
              "      <td>Busia</td>\n",
              "      <td>662.0</td>\n",
              "      <td>74.1</td>\n",
              "      <td>893,681</td>\n",
              "      <td>426,252</td>\n",
              "      <td>467,401</td>\n",
              "      <td>526</td>\n",
              "    </tr>\n",
              "    <tr>\n",
              "      <th>3</th>\n",
              "      <td>Kajiado</td>\n",
              "      <td>774.0</td>\n",
              "      <td>69.2</td>\n",
              "      <td>1,117,840</td>\n",
              "      <td>557,098</td>\n",
              "      <td>560,704</td>\n",
              "      <td>51</td>\n",
              "    </tr>\n",
              "    <tr>\n",
              "      <th>4</th>\n",
              "      <td>Kiambu</td>\n",
              "      <td>907.0</td>\n",
              "      <td>37.5</td>\n",
              "      <td>2,417,735</td>\n",
              "      <td>1,187,146</td>\n",
              "      <td>1,230,454</td>\n",
              "      <td>952</td>\n",
              "    </tr>\n",
              "  </tbody>\n",
              "</table>\n",
              "</div>"
            ],
            "text/plain": [
              "    County  Cumulative Cases  ...       Female  Density\n",
              "0  Nairobi            8618.0  ...   2,204,376    6,247 \n",
              "1  Mombasa            1870.0  ...     598,046    5,495 \n",
              "2    Busia             662.0  ...     467,401      526 \n",
              "3  Kajiado             774.0  ...     560,704       51 \n",
              "4   Kiambu             907.0  ...   1,230,454      952 \n",
              "\n",
              "[5 rows x 7 columns]"
            ]
          },
          "metadata": {
            "tags": []
          },
          "execution_count": 81
        }
      ]
    },
    {
      "cell_type": "code",
      "metadata": {
        "id": "kvLSc4IH5N5V",
        "colab": {
          "base_uri": "https://localhost:8080/",
          "height": 191
        },
        "outputId": "505fc85c-f1ee-4615-e6dd-7fe6f2e1fc59"
      },
      "source": [
        "hospital_count = pd.DataFrame({'County Name': health_facilities.groupby(['County'])['Facility Name'].count().index, 'hospital_count':health_facilities.groupby(['County'])['Facility Name'].count()})\n",
        "hospital_count.reset_index(inplace=True)\n",
        "hospital_count.drop(['County Name'], axis=1,inplace=True)\n",
        "hospital_count.head()"
      ],
      "execution_count": null,
      "outputs": [
        {
          "output_type": "execute_result",
          "data": {
            "text/html": [
              "<div>\n",
              "<style scoped>\n",
              "    .dataframe tbody tr th:only-of-type {\n",
              "        vertical-align: middle;\n",
              "    }\n",
              "\n",
              "    .dataframe tbody tr th {\n",
              "        vertical-align: top;\n",
              "    }\n",
              "\n",
              "    .dataframe thead th {\n",
              "        text-align: right;\n",
              "    }\n",
              "</style>\n",
              "<table border=\"1\" class=\"dataframe\">\n",
              "  <thead>\n",
              "    <tr style=\"text-align: right;\">\n",
              "      <th></th>\n",
              "      <th>County</th>\n",
              "      <th>hospital_count</th>\n",
              "    </tr>\n",
              "  </thead>\n",
              "  <tbody>\n",
              "    <tr>\n",
              "      <th>0</th>\n",
              "      <td>BARINGO</td>\n",
              "      <td>115</td>\n",
              "    </tr>\n",
              "    <tr>\n",
              "      <th>1</th>\n",
              "      <td>BOMET</td>\n",
              "      <td>77</td>\n",
              "    </tr>\n",
              "    <tr>\n",
              "      <th>2</th>\n",
              "      <td>BUNGOMA</td>\n",
              "      <td>88</td>\n",
              "    </tr>\n",
              "    <tr>\n",
              "      <th>3</th>\n",
              "      <td>BUSIA</td>\n",
              "      <td>81</td>\n",
              "    </tr>\n",
              "    <tr>\n",
              "      <th>4</th>\n",
              "      <td>ELEGEYO-MARAKWET</td>\n",
              "      <td>78</td>\n",
              "    </tr>\n",
              "  </tbody>\n",
              "</table>\n",
              "</div>"
            ],
            "text/plain": [
              "             County  hospital_count\n",
              "0           BARINGO             115\n",
              "1             BOMET              77\n",
              "2           BUNGOMA              88\n",
              "3             BUSIA              81\n",
              "4  ELEGEYO-MARAKWET              78"
            ]
          },
          "metadata": {
            "tags": []
          },
          "execution_count": 92
        }
      ]
    },
    {
      "cell_type": "code",
      "metadata": {
        "id": "638ipJH57o_J"
      },
      "source": [
        "pop_cases['County'] = pop_cases['County'].str.upper()"
      ],
      "execution_count": null,
      "outputs": []
    },
    {
      "cell_type": "code",
      "metadata": {
        "id": "yJRp62dU72pH",
        "colab": {
          "base_uri": "https://localhost:8080/",
          "height": 33
        },
        "outputId": "6406e548-20b0-4b90-f89e-73d2adc9a9b2"
      },
      "source": [
        "set(hospital_count.County.to_list()).difference(set(pop_cases.County.to_list()))"
      ],
      "execution_count": null,
      "outputs": [
        {
          "output_type": "execute_result",
          "data": {
            "text/plain": [
              "{'BARINGO', 'ELEGEYO-MARAKWET', 'SAMBURU', 'THARAKA - NITHI', 'WEST POKOT'}"
            ]
          },
          "metadata": {
            "tags": []
          },
          "execution_count": 99
        }
      ]
    },
    {
      "cell_type": "code",
      "metadata": {
        "id": "_osyKVjA8MFy",
        "colab": {
          "base_uri": "https://localhost:8080/",
          "height": 33
        },
        "outputId": "a1624bad-f027-402d-a44a-05a95b03295a"
      },
      "source": [
        "set(pop_cases.County.to_list()).difference(set(hospital_count.County.to_list()))"
      ],
      "execution_count": null,
      "outputs": [
        {
          "output_type": "execute_result",
          "data": {
            "text/plain": [
              "{'ELGEYO-MARAKWET', 'THARAKA-NITHI'}"
            ]
          },
          "metadata": {
            "tags": []
          },
          "execution_count": 95
        }
      ]
    },
    {
      "cell_type": "code",
      "metadata": {
        "id": "IAWEi0mK8tdL"
      },
      "source": [
        "hospital_count['County'].replace({'ELEGEYO-MARAKWET':'ELGEYO-MARAKWET', 'THARAKA - NITHI': 'THARAKA-NITHI'}, inplace=True)"
      ],
      "execution_count": null,
      "outputs": []
    },
    {
      "cell_type": "code",
      "metadata": {
        "id": "NKrBCCGZ9i4g",
        "colab": {
          "base_uri": "https://localhost:8080/",
          "height": 33
        },
        "outputId": "6bbd72df-b0cf-4157-972b-f011dbf53439"
      },
      "source": [
        "set(pop_cases.County.to_list()).difference(set(hospital_count.County.to_list()))"
      ],
      "execution_count": null,
      "outputs": [
        {
          "output_type": "execute_result",
          "data": {
            "text/plain": [
              "set()"
            ]
          },
          "metadata": {
            "tags": []
          },
          "execution_count": 101
        }
      ]
    },
    {
      "cell_type": "code",
      "metadata": {
        "id": "bJmA5s2F91de"
      },
      "source": [
        "hospital_cases = pd.merge(pop_cases, hospital_count, on='County')"
      ],
      "execution_count": null,
      "outputs": []
    },
    {
      "cell_type": "code",
      "metadata": {
        "id": "F3NrMAQK-EDf",
        "colab": {
          "base_uri": "https://localhost:8080/",
          "height": 191
        },
        "outputId": "9021af8b-5a0a-46f5-d1aa-babdb790cb41"
      },
      "source": [
        "hospital_cases.head()"
      ],
      "execution_count": null,
      "outputs": [
        {
          "output_type": "execute_result",
          "data": {
            "text/html": [
              "<div>\n",
              "<style scoped>\n",
              "    .dataframe tbody tr th:only-of-type {\n",
              "        vertical-align: middle;\n",
              "    }\n",
              "\n",
              "    .dataframe tbody tr th {\n",
              "        vertical-align: top;\n",
              "    }\n",
              "\n",
              "    .dataframe thead th {\n",
              "        text-align: right;\n",
              "    }\n",
              "</style>\n",
              "<table border=\"1\" class=\"dataframe\">\n",
              "  <thead>\n",
              "    <tr style=\"text-align: right;\">\n",
              "      <th></th>\n",
              "      <th>County</th>\n",
              "      <th>Cumulative Cases</th>\n",
              "      <th>Cases per 100,000 population</th>\n",
              "      <th>2019_Population</th>\n",
              "      <th>Male</th>\n",
              "      <th>Female</th>\n",
              "      <th>Density</th>\n",
              "      <th>hospital_count</th>\n",
              "    </tr>\n",
              "  </thead>\n",
              "  <tbody>\n",
              "    <tr>\n",
              "      <th>0</th>\n",
              "      <td>NAIROBI</td>\n",
              "      <td>8618.0</td>\n",
              "      <td>196.0</td>\n",
              "      <td>4,397,073</td>\n",
              "      <td>2,192,452</td>\n",
              "      <td>2,204,376</td>\n",
              "      <td>6,247</td>\n",
              "      <td>170</td>\n",
              "    </tr>\n",
              "    <tr>\n",
              "      <th>1</th>\n",
              "      <td>MOMBASA</td>\n",
              "      <td>1870.0</td>\n",
              "      <td>154.8</td>\n",
              "      <td>1,208,333</td>\n",
              "      <td>610,257</td>\n",
              "      <td>598,046</td>\n",
              "      <td>5,495</td>\n",
              "      <td>129</td>\n",
              "    </tr>\n",
              "    <tr>\n",
              "      <th>2</th>\n",
              "      <td>BUSIA</td>\n",
              "      <td>662.0</td>\n",
              "      <td>74.1</td>\n",
              "      <td>893,681</td>\n",
              "      <td>426,252</td>\n",
              "      <td>467,401</td>\n",
              "      <td>526</td>\n",
              "      <td>81</td>\n",
              "    </tr>\n",
              "    <tr>\n",
              "      <th>3</th>\n",
              "      <td>KAJIADO</td>\n",
              "      <td>774.0</td>\n",
              "      <td>69.2</td>\n",
              "      <td>1,117,840</td>\n",
              "      <td>557,098</td>\n",
              "      <td>560,704</td>\n",
              "      <td>51</td>\n",
              "      <td>114</td>\n",
              "    </tr>\n",
              "    <tr>\n",
              "      <th>4</th>\n",
              "      <td>KIAMBU</td>\n",
              "      <td>907.0</td>\n",
              "      <td>37.5</td>\n",
              "      <td>2,417,735</td>\n",
              "      <td>1,187,146</td>\n",
              "      <td>1,230,454</td>\n",
              "      <td>952</td>\n",
              "      <td>165</td>\n",
              "    </tr>\n",
              "  </tbody>\n",
              "</table>\n",
              "</div>"
            ],
            "text/plain": [
              "    County  Cumulative Cases  ...  Density hospital_count\n",
              "0  NAIROBI            8618.0  ...   6,247             170\n",
              "1  MOMBASA            1870.0  ...   5,495             129\n",
              "2    BUSIA             662.0  ...     526              81\n",
              "3  KAJIADO             774.0  ...      51             114\n",
              "4   KIAMBU             907.0  ...     952             165\n",
              "\n",
              "[5 rows x 8 columns]"
            ]
          },
          "metadata": {
            "tags": []
          },
          "execution_count": 103
        }
      ]
    },
    {
      "cell_type": "code",
      "metadata": {
        "id": "O1zM-zor-mwS"
      },
      "source": [
        "rec_beds = pd.DataFrame({'Isolation_beds':ICU_beds.groupby(['County'])['Regular Isolation Beds Available'].sum(), 'Recommended_beds':ICU_beds.groupby(['County'])['Regular Isolation Beds Recommended'].sum()})\n",
        "rec_beds.reset_index(inplace=True)"
      ],
      "execution_count": null,
      "outputs": []
    },
    {
      "cell_type": "code",
      "metadata": {
        "id": "-ouXxhI4-nN_"
      },
      "source": [
        "rec_beds.County = rec_beds.County.str.upper()"
      ],
      "execution_count": null,
      "outputs": []
    },
    {
      "cell_type": "code",
      "metadata": {
        "id": "dIBnx8wO-nXn",
        "colab": {
          "base_uri": "https://localhost:8080/",
          "height": 115
        },
        "outputId": "56c52c60-f55d-4b34-c033-22d7b9831fa5"
      },
      "source": [
        "set(hospital_cases.County.to_list()).difference(set(rec_beds.County.to_list()))"
      ],
      "execution_count": null,
      "outputs": [
        {
          "output_type": "execute_result",
          "data": {
            "text/plain": [
              "{'ELGEYO-MARAKWET',\n",
              " 'KWALE',\n",
              " \"MURANG'A\",\n",
              " 'THARAKA-NITHI',\n",
              " 'TRANS NZOIA',\n",
              " 'UASIN GISHU'}"
            ]
          },
          "metadata": {
            "tags": []
          },
          "execution_count": 124
        }
      ]
    },
    {
      "cell_type": "code",
      "metadata": {
        "id": "Jzgl1Ypw-nhf",
        "colab": {
          "base_uri": "https://localhost:8080/",
          "height": 147
        },
        "outputId": "0382737e-d150-4b3d-b78e-f2b7a04e66a5"
      },
      "source": [
        "set(rec_beds.County.to_list()).difference(set(hospital_cases.County.to_list()))"
      ],
      "execution_count": null,
      "outputs": [
        {
          "output_type": "execute_result",
          "data": {
            "text/plain": [
              "{'BARINGO',\n",
              " 'ELGEYO MARAKWET',\n",
              " 'MURANGA',\n",
              " 'SAMBURU',\n",
              " 'THARAKA NITHI',\n",
              " 'TRANZOIA',\n",
              " 'UASIN GICHU',\n",
              " 'WEST POKOT'}"
            ]
          },
          "metadata": {
            "tags": []
          },
          "execution_count": 125
        }
      ]
    },
    {
      "cell_type": "code",
      "metadata": {
        "id": "8M0pV_Ib-nf6"
      },
      "source": [
        "rec_beds['County'].replace({'ELGEYO MARAKWET':'ELGEYO-MARAKWET','THARAKA NITHI': 'THARAKA-NITHI','TRANZOIA':'TRANS NZOIA','MURANGA':\"MURANG'A\", 'UASIN GICHU':'UASIN GISHU'}, inplace=True)"
      ],
      "execution_count": null,
      "outputs": []
    },
    {
      "cell_type": "code",
      "metadata": {
        "id": "djNny7fp-nUX"
      },
      "source": [
        "final_df = pd.merge(hospital_cases, rec_beds, on='County')"
      ],
      "execution_count": null,
      "outputs": []
    },
    {
      "cell_type": "code",
      "metadata": {
        "id": "E1l-3ejK-nMI",
        "colab": {
          "base_uri": "https://localhost:8080/",
          "height": 191
        },
        "outputId": "9c31dffe-4b6d-4910-fbb5-d6284a31ffef"
      },
      "source": [
        "final_df.head()"
      ],
      "execution_count": null,
      "outputs": [
        {
          "output_type": "execute_result",
          "data": {
            "text/html": [
              "<div>\n",
              "<style scoped>\n",
              "    .dataframe tbody tr th:only-of-type {\n",
              "        vertical-align: middle;\n",
              "    }\n",
              "\n",
              "    .dataframe tbody tr th {\n",
              "        vertical-align: top;\n",
              "    }\n",
              "\n",
              "    .dataframe thead th {\n",
              "        text-align: right;\n",
              "    }\n",
              "</style>\n",
              "<table border=\"1\" class=\"dataframe\">\n",
              "  <thead>\n",
              "    <tr style=\"text-align: right;\">\n",
              "      <th></th>\n",
              "      <th>County</th>\n",
              "      <th>Cumulative Cases</th>\n",
              "      <th>Cases per 100,000 population</th>\n",
              "      <th>2019_Population</th>\n",
              "      <th>Male</th>\n",
              "      <th>Female</th>\n",
              "      <th>Density</th>\n",
              "      <th>hospital_count</th>\n",
              "      <th>Isolation_beds</th>\n",
              "      <th>Recommended_beds</th>\n",
              "    </tr>\n",
              "  </thead>\n",
              "  <tbody>\n",
              "    <tr>\n",
              "      <th>0</th>\n",
              "      <td>NAIROBI</td>\n",
              "      <td>8618.0</td>\n",
              "      <td>196.0</td>\n",
              "      <td>4,397,073</td>\n",
              "      <td>2,192,452</td>\n",
              "      <td>2,204,376</td>\n",
              "      <td>6,247</td>\n",
              "      <td>170</td>\n",
              "      <td>582.0</td>\n",
              "      <td>716.0</td>\n",
              "    </tr>\n",
              "    <tr>\n",
              "      <th>1</th>\n",
              "      <td>MOMBASA</td>\n",
              "      <td>1870.0</td>\n",
              "      <td>154.8</td>\n",
              "      <td>1,208,333</td>\n",
              "      <td>610,257</td>\n",
              "      <td>598,046</td>\n",
              "      <td>5,495</td>\n",
              "      <td>129</td>\n",
              "      <td>25.0</td>\n",
              "      <td>90.0</td>\n",
              "    </tr>\n",
              "    <tr>\n",
              "      <th>2</th>\n",
              "      <td>BUSIA</td>\n",
              "      <td>662.0</td>\n",
              "      <td>74.1</td>\n",
              "      <td>893,681</td>\n",
              "      <td>426,252</td>\n",
              "      <td>467,401</td>\n",
              "      <td>526</td>\n",
              "      <td>81</td>\n",
              "      <td>100.0</td>\n",
              "      <td>20.0</td>\n",
              "    </tr>\n",
              "    <tr>\n",
              "      <th>3</th>\n",
              "      <td>KAJIADO</td>\n",
              "      <td>774.0</td>\n",
              "      <td>69.2</td>\n",
              "      <td>1,117,840</td>\n",
              "      <td>557,098</td>\n",
              "      <td>560,704</td>\n",
              "      <td>51</td>\n",
              "      <td>114</td>\n",
              "      <td>28.0</td>\n",
              "      <td>40.0</td>\n",
              "    </tr>\n",
              "    <tr>\n",
              "      <th>4</th>\n",
              "      <td>KIAMBU</td>\n",
              "      <td>907.0</td>\n",
              "      <td>37.5</td>\n",
              "      <td>2,417,735</td>\n",
              "      <td>1,187,146</td>\n",
              "      <td>1,230,454</td>\n",
              "      <td>952</td>\n",
              "      <td>165</td>\n",
              "      <td>34.0</td>\n",
              "      <td>120.0</td>\n",
              "    </tr>\n",
              "  </tbody>\n",
              "</table>\n",
              "</div>"
            ],
            "text/plain": [
              "    County  Cumulative Cases  ...  Isolation_beds Recommended_beds\n",
              "0  NAIROBI            8618.0  ...           582.0            716.0\n",
              "1  MOMBASA            1870.0  ...            25.0             90.0\n",
              "2    BUSIA             662.0  ...           100.0             20.0\n",
              "3  KAJIADO             774.0  ...            28.0             40.0\n",
              "4   KIAMBU             907.0  ...            34.0            120.0\n",
              "\n",
              "[5 rows x 10 columns]"
            ]
          },
          "metadata": {
            "tags": []
          },
          "execution_count": 128
        }
      ]
    },
    {
      "cell_type": "code",
      "metadata": {
        "id": "Xk0UBORw-nCN",
        "colab": {
          "base_uri": "https://localhost:8080/",
          "height": 196
        },
        "outputId": "7c203820-40dd-41f9-ec86-3674e96fd9af"
      },
      "source": [
        "final_df.dtypes"
      ],
      "execution_count": null,
      "outputs": [
        {
          "output_type": "execute_result",
          "data": {
            "text/plain": [
              "County                           object\n",
              "Cumulative Cases                float64\n",
              "Cases per 100,000 population    float64\n",
              "2019_Population                  object\n",
              "Male                             object\n",
              "Female                           object\n",
              "Density                          object\n",
              "hospital_count                    int64\n",
              "Isolation_beds                  float64\n",
              "Recommended_beds                float64\n",
              "dtype: object"
            ]
          },
          "metadata": {
            "tags": []
          },
          "execution_count": 129
        }
      ]
    },
    {
      "cell_type": "code",
      "metadata": {
        "id": "DoajL5iK-m5n"
      },
      "source": [
        "final_df['bed_preparedness'] = final_df.Recommended_beds - final_df.Isolation_beds"
      ],
      "execution_count": null,
      "outputs": []
    },
    {
      "cell_type": "code",
      "metadata": {
        "id": "GNgeFolkXjE6"
      },
      "source": [
        "final_df['bed_surplus_rank'] = final_df['bed_preparedness'].rank(ascending=True)"
      ],
      "execution_count": null,
      "outputs": []
    },
    {
      "cell_type": "code",
      "metadata": {
        "id": "aE5ySbrDWJvg",
        "colab": {
          "base_uri": "https://localhost:8080/",
          "height": 732
        },
        "outputId": "2dfd8387-8db3-4d27-ea0c-a5cdb71187c6"
      },
      "source": [
        "final_df"
      ],
      "execution_count": null,
      "outputs": [
        {
          "output_type": "execute_result",
          "data": {
            "text/plain": [
              "0     43.0\n",
              "1     40.0\n",
              "2      1.0\n",
              "3     22.5\n",
              "4     42.0\n",
              "5     36.0\n",
              "6      7.5\n",
              "7     31.5\n",
              "8     41.0\n",
              "9     10.5\n",
              "10    33.5\n",
              "11     2.0\n",
              "12    12.5\n",
              "13     3.0\n",
              "14    24.5\n",
              "15    16.5\n",
              "16    35.0\n",
              "17    19.0\n",
              "18    37.0\n",
              "19    22.5\n",
              "20     9.0\n",
              "21    29.0\n",
              "22    24.5\n",
              "23    31.5\n",
              "24     7.5\n",
              "25    12.5\n",
              "26    16.5\n",
              "27    27.5\n",
              "28    33.5\n",
              "29    27.5\n",
              "30     6.0\n",
              "31     5.0\n",
              "32    30.0\n",
              "33    18.0\n",
              "34    39.0\n",
              "35    20.5\n",
              "36    20.5\n",
              "37     4.0\n",
              "38    14.0\n",
              "39    26.0\n",
              "40    38.0\n",
              "41    15.0\n",
              "42    10.5\n",
              "Name: bed_preparedness, dtype: float64"
            ]
          },
          "metadata": {
            "tags": []
          },
          "execution_count": 132
        }
      ]
    },
    {
      "cell_type": "code",
      "metadata": {
        "id": "Y041FjDQWJ7D"
      },
      "source": [
        ""
      ],
      "execution_count": null,
      "outputs": []
    },
    {
      "cell_type": "code",
      "metadata": {
        "id": "qsbzvfNPWKIN"
      },
      "source": [
        ""
      ],
      "execution_count": null,
      "outputs": []
    },
    {
      "cell_type": "code",
      "metadata": {
        "id": "E5y4_h1CWKWT"
      },
      "source": [
        ""
      ],
      "execution_count": null,
      "outputs": []
    },
    {
      "cell_type": "code",
      "metadata": {
        "id": "KAGKG0pCWKiq"
      },
      "source": [
        ""
      ],
      "execution_count": null,
      "outputs": []
    },
    {
      "cell_type": "code",
      "metadata": {
        "id": "sW0e1r5uWKgA"
      },
      "source": [
        ""
      ],
      "execution_count": null,
      "outputs": []
    },
    {
      "cell_type": "code",
      "metadata": {
        "id": "t0MhO5M8WKSD"
      },
      "source": [
        ""
      ],
      "execution_count": null,
      "outputs": []
    },
    {
      "cell_type": "code",
      "metadata": {
        "id": "uBFGD3ZzWKF_"
      },
      "source": [
        ""
      ],
      "execution_count": null,
      "outputs": []
    },
    {
      "cell_type": "code",
      "metadata": {
        "id": "4tya2w5naru1",
        "colab": {
          "base_uri": "https://localhost:8080/",
          "height": 728
        },
        "outputId": "280d6bcb-5326-4bac-b642-89264b65a6b9"
      },
      "source": [
        "# drop duplicate column: 'Population (2019Census KNBS)'\n",
        "covid_df.drop('Population (2019Census KNBS)', axis = 1, inplace= True)\n",
        "covid_df"
      ],
      "execution_count": null,
      "outputs": [
        {
          "output_type": "execute_result",
          "data": {
            "text/html": [
              "<div>\n",
              "<style scoped>\n",
              "    .dataframe tbody tr th:only-of-type {\n",
              "        vertical-align: middle;\n",
              "    }\n",
              "\n",
              "    .dataframe tbody tr th {\n",
              "        vertical-align: top;\n",
              "    }\n",
              "\n",
              "    .dataframe thead th {\n",
              "        text-align: right;\n",
              "    }\n",
              "</style>\n",
              "<table border=\"1\" class=\"dataframe\">\n",
              "  <thead>\n",
              "    <tr style=\"text-align: right;\">\n",
              "      <th></th>\n",
              "      <th>County</th>\n",
              "      <th>Facility Name</th>\n",
              "      <th>Regular Isolation Beds Available</th>\n",
              "      <th>Regular Isolation Beds Recommended</th>\n",
              "      <th>Available ICU/Critical Care bed for Isolation</th>\n",
              "      <th>Recommended ICU/Critical beds for Isolation</th>\n",
              "      <th>Ventilators Available for Isoation</th>\n",
              "      <th>Ventilators Recommended for Isolation</th>\n",
              "      <th>ICU beds for General Patients(Public &amp; Private)</th>\n",
              "      <th>Cumulative Cases</th>\n",
              "      <th>Cases per 100,000 population</th>\n",
              "      <th>2019_Population</th>\n",
              "      <th>Male</th>\n",
              "      <th>Female</th>\n",
              "    </tr>\n",
              "  </thead>\n",
              "  <tbody>\n",
              "    <tr>\n",
              "      <th>0</th>\n",
              "      <td>Elgeyo Marakwet</td>\n",
              "      <td>Iten Couty Referral Hospital</td>\n",
              "      <td>20.0</td>\n",
              "      <td>20.0</td>\n",
              "      <td>0.0</td>\n",
              "      <td>2.0</td>\n",
              "      <td>NaN</td>\n",
              "      <td>2.0</td>\n",
              "      <td>6.0</td>\n",
              "      <td>NaN</td>\n",
              "      <td>NaN</td>\n",
              "      <td>NaN</td>\n",
              "      <td>NaN</td>\n",
              "      <td>NaN</td>\n",
              "    </tr>\n",
              "    <tr>\n",
              "      <th>1</th>\n",
              "      <td>Nandi</td>\n",
              "      <td>Nandi Hills County Hospital</td>\n",
              "      <td>35.0</td>\n",
              "      <td>20.0</td>\n",
              "      <td>0.0</td>\n",
              "      <td>2.0</td>\n",
              "      <td>0.0</td>\n",
              "      <td>1.0</td>\n",
              "      <td>2.0</td>\n",
              "      <td>NaN</td>\n",
              "      <td>NaN</td>\n",
              "      <td>NaN</td>\n",
              "      <td>NaN</td>\n",
              "      <td>NaN</td>\n",
              "    </tr>\n",
              "    <tr>\n",
              "      <th>2</th>\n",
              "      <td>Tranzoia</td>\n",
              "      <td>Mt.Elgon Hospital</td>\n",
              "      <td>40.0</td>\n",
              "      <td>20.0</td>\n",
              "      <td>0.0</td>\n",
              "      <td>2.0</td>\n",
              "      <td>NaN</td>\n",
              "      <td>2.0</td>\n",
              "      <td>0.0</td>\n",
              "      <td>NaN</td>\n",
              "      <td>NaN</td>\n",
              "      <td>NaN</td>\n",
              "      <td>NaN</td>\n",
              "      <td>NaN</td>\n",
              "    </tr>\n",
              "    <tr>\n",
              "      <th>3</th>\n",
              "      <td>Turkana</td>\n",
              "      <td>Lodwar County Referral Hospital</td>\n",
              "      <td>12.0</td>\n",
              "      <td>20.0</td>\n",
              "      <td>0.0</td>\n",
              "      <td>2.0</td>\n",
              "      <td>NaN</td>\n",
              "      <td>2.0</td>\n",
              "      <td>3.0</td>\n",
              "      <td>NaN</td>\n",
              "      <td>NaN</td>\n",
              "      <td>NaN</td>\n",
              "      <td>NaN</td>\n",
              "      <td>NaN</td>\n",
              "    </tr>\n",
              "    <tr>\n",
              "      <th>4</th>\n",
              "      <td>NaN</td>\n",
              "      <td>Lopiding Sub-County Hospital</td>\n",
              "      <td>0.0</td>\n",
              "      <td>20.0</td>\n",
              "      <td>0.0</td>\n",
              "      <td>2.0</td>\n",
              "      <td>NaN</td>\n",
              "      <td>2.0</td>\n",
              "      <td>NaN</td>\n",
              "      <td>NaN</td>\n",
              "      <td>NaN</td>\n",
              "      <td>NaN</td>\n",
              "      <td>NaN</td>\n",
              "      <td>NaN</td>\n",
              "    </tr>\n",
              "    <tr>\n",
              "      <th>...</th>\n",
              "      <td>...</td>\n",
              "      <td>...</td>\n",
              "      <td>...</td>\n",
              "      <td>...</td>\n",
              "      <td>...</td>\n",
              "      <td>...</td>\n",
              "      <td>...</td>\n",
              "      <td>...</td>\n",
              "      <td>...</td>\n",
              "      <td>...</td>\n",
              "      <td>...</td>\n",
              "      <td>...</td>\n",
              "      <td>...</td>\n",
              "      <td>...</td>\n",
              "    </tr>\n",
              "    <tr>\n",
              "      <th>6931</th>\n",
              "      <td>Homa Bay</td>\n",
              "      <td>NaN</td>\n",
              "      <td>NaN</td>\n",
              "      <td>NaN</td>\n",
              "      <td>NaN</td>\n",
              "      <td>NaN</td>\n",
              "      <td>NaN</td>\n",
              "      <td>NaN</td>\n",
              "      <td>NaN</td>\n",
              "      <td>NaN</td>\n",
              "      <td>NaN</td>\n",
              "      <td>1,131,950</td>\n",
              "      <td>539,560</td>\n",
              "      <td>592,367</td>\n",
              "    </tr>\n",
              "    <tr>\n",
              "      <th>6932</th>\n",
              "      <td>Migori</td>\n",
              "      <td>NaN</td>\n",
              "      <td>NaN</td>\n",
              "      <td>NaN</td>\n",
              "      <td>NaN</td>\n",
              "      <td>NaN</td>\n",
              "      <td>NaN</td>\n",
              "      <td>NaN</td>\n",
              "      <td>NaN</td>\n",
              "      <td>NaN</td>\n",
              "      <td>NaN</td>\n",
              "      <td>1,116,436</td>\n",
              "      <td>536,187</td>\n",
              "      <td>580,214</td>\n",
              "    </tr>\n",
              "    <tr>\n",
              "      <th>6933</th>\n",
              "      <td>Kisii</td>\n",
              "      <td>NaN</td>\n",
              "      <td>NaN</td>\n",
              "      <td>NaN</td>\n",
              "      <td>NaN</td>\n",
              "      <td>NaN</td>\n",
              "      <td>NaN</td>\n",
              "      <td>NaN</td>\n",
              "      <td>NaN</td>\n",
              "      <td>NaN</td>\n",
              "      <td>NaN</td>\n",
              "      <td>1,266,860</td>\n",
              "      <td>605,784</td>\n",
              "      <td>661,038</td>\n",
              "    </tr>\n",
              "    <tr>\n",
              "      <th>6934</th>\n",
              "      <td>Nyamira</td>\n",
              "      <td>NaN</td>\n",
              "      <td>NaN</td>\n",
              "      <td>NaN</td>\n",
              "      <td>NaN</td>\n",
              "      <td>NaN</td>\n",
              "      <td>NaN</td>\n",
              "      <td>NaN</td>\n",
              "      <td>NaN</td>\n",
              "      <td>NaN</td>\n",
              "      <td>NaN</td>\n",
              "      <td>605,576</td>\n",
              "      <td>290,907</td>\n",
              "      <td>314,656</td>\n",
              "    </tr>\n",
              "    <tr>\n",
              "      <th>6935</th>\n",
              "      <td>Nairobi</td>\n",
              "      <td>NaN</td>\n",
              "      <td>NaN</td>\n",
              "      <td>NaN</td>\n",
              "      <td>NaN</td>\n",
              "      <td>NaN</td>\n",
              "      <td>NaN</td>\n",
              "      <td>NaN</td>\n",
              "      <td>NaN</td>\n",
              "      <td>NaN</td>\n",
              "      <td>NaN</td>\n",
              "      <td>4,397,073</td>\n",
              "      <td>2,192,452</td>\n",
              "      <td>2,204,376</td>\n",
              "    </tr>\n",
              "  </tbody>\n",
              "</table>\n",
              "<p>6936 rows × 14 columns</p>\n",
              "</div>"
            ],
            "text/plain": [
              "               County                    Facility Name  ...       Male     Female\n",
              "0     Elgeyo Marakwet     Iten Couty Referral Hospital  ...        NaN        NaN\n",
              "1               Nandi      Nandi Hills County Hospital  ...        NaN        NaN\n",
              "2            Tranzoia                Mt.Elgon Hospital  ...        NaN        NaN\n",
              "3             Turkana  Lodwar County Referral Hospital  ...        NaN        NaN\n",
              "4                 NaN     Lopiding Sub-County Hospital  ...        NaN        NaN\n",
              "...               ...                              ...  ...        ...        ...\n",
              "6931         Homa Bay                              NaN  ...    539,560    592,367\n",
              "6932           Migori                              NaN  ...    536,187    580,214\n",
              "6933            Kisii                              NaN  ...    605,784    661,038\n",
              "6934          Nyamira                              NaN  ...    290,907    314,656\n",
              "6935          Nairobi                              NaN  ...  2,192,452  2,204,376\n",
              "\n",
              "[6936 rows x 14 columns]"
            ]
          },
          "metadata": {
            "tags": []
          },
          "execution_count": 182
        }
      ]
    },
    {
      "cell_type": "markdown",
      "metadata": {
        "id": "cYAzCREw_YPW"
      },
      "source": [
        "## 3.6 Identifying duplicates"
      ]
    },
    {
      "cell_type": "code",
      "metadata": {
        "id": "8SbdA93h_fRT",
        "colab": {
          "base_uri": "https://localhost:8080/",
          "height": 221
        },
        "outputId": "7ded10c2-8fd2-4b40-d4c3-4e5dde5c5126"
      },
      "source": [
        "# Identify duplicates\n",
        "covid_df.duplicated()"
      ],
      "execution_count": null,
      "outputs": [
        {
          "output_type": "execute_result",
          "data": {
            "text/plain": [
              "0       False\n",
              "1       False\n",
              "2       False\n",
              "3       False\n",
              "4       False\n",
              "        ...  \n",
              "6931    False\n",
              "6932    False\n",
              "6933    False\n",
              "6934    False\n",
              "6935    False\n",
              "Length: 6936, dtype: bool"
            ]
          },
          "metadata": {
            "tags": []
          },
          "execution_count": 183
        }
      ]
    },
    {
      "cell_type": "code",
      "metadata": {
        "id": "J3raDSTW_4-A",
        "colab": {
          "base_uri": "https://localhost:8080/",
          "height": 728
        },
        "outputId": "97fb6339-69a7-40fc-9ff4-c261086c46fd"
      },
      "source": [
        "# Dropping duplicates\n",
        "covid_df.drop_duplicates(keep = False)"
      ],
      "execution_count": null,
      "outputs": [
        {
          "output_type": "execute_result",
          "data": {
            "text/html": [
              "<div>\n",
              "<style scoped>\n",
              "    .dataframe tbody tr th:only-of-type {\n",
              "        vertical-align: middle;\n",
              "    }\n",
              "\n",
              "    .dataframe tbody tr th {\n",
              "        vertical-align: top;\n",
              "    }\n",
              "\n",
              "    .dataframe thead th {\n",
              "        text-align: right;\n",
              "    }\n",
              "</style>\n",
              "<table border=\"1\" class=\"dataframe\">\n",
              "  <thead>\n",
              "    <tr style=\"text-align: right;\">\n",
              "      <th></th>\n",
              "      <th>County</th>\n",
              "      <th>Facility Name</th>\n",
              "      <th>Regular Isolation Beds Available</th>\n",
              "      <th>Regular Isolation Beds Recommended</th>\n",
              "      <th>Available ICU/Critical Care bed for Isolation</th>\n",
              "      <th>Recommended ICU/Critical beds for Isolation</th>\n",
              "      <th>Ventilators Available for Isoation</th>\n",
              "      <th>Ventilators Recommended for Isolation</th>\n",
              "      <th>ICU beds for General Patients(Public &amp; Private)</th>\n",
              "      <th>Cumulative Cases</th>\n",
              "      <th>Cases per 100,000 population</th>\n",
              "      <th>2019_Population</th>\n",
              "      <th>Male</th>\n",
              "      <th>Female</th>\n",
              "    </tr>\n",
              "  </thead>\n",
              "  <tbody>\n",
              "    <tr>\n",
              "      <th>0</th>\n",
              "      <td>Elgeyo Marakwet</td>\n",
              "      <td>Iten Couty Referral Hospital</td>\n",
              "      <td>20.0</td>\n",
              "      <td>20.0</td>\n",
              "      <td>0.0</td>\n",
              "      <td>2.0</td>\n",
              "      <td>NaN</td>\n",
              "      <td>2.0</td>\n",
              "      <td>6.0</td>\n",
              "      <td>NaN</td>\n",
              "      <td>NaN</td>\n",
              "      <td>NaN</td>\n",
              "      <td>NaN</td>\n",
              "      <td>NaN</td>\n",
              "    </tr>\n",
              "    <tr>\n",
              "      <th>1</th>\n",
              "      <td>Nandi</td>\n",
              "      <td>Nandi Hills County Hospital</td>\n",
              "      <td>35.0</td>\n",
              "      <td>20.0</td>\n",
              "      <td>0.0</td>\n",
              "      <td>2.0</td>\n",
              "      <td>0.0</td>\n",
              "      <td>1.0</td>\n",
              "      <td>2.0</td>\n",
              "      <td>NaN</td>\n",
              "      <td>NaN</td>\n",
              "      <td>NaN</td>\n",
              "      <td>NaN</td>\n",
              "      <td>NaN</td>\n",
              "    </tr>\n",
              "    <tr>\n",
              "      <th>2</th>\n",
              "      <td>Tranzoia</td>\n",
              "      <td>Mt.Elgon Hospital</td>\n",
              "      <td>40.0</td>\n",
              "      <td>20.0</td>\n",
              "      <td>0.0</td>\n",
              "      <td>2.0</td>\n",
              "      <td>NaN</td>\n",
              "      <td>2.0</td>\n",
              "      <td>0.0</td>\n",
              "      <td>NaN</td>\n",
              "      <td>NaN</td>\n",
              "      <td>NaN</td>\n",
              "      <td>NaN</td>\n",
              "      <td>NaN</td>\n",
              "    </tr>\n",
              "    <tr>\n",
              "      <th>3</th>\n",
              "      <td>Turkana</td>\n",
              "      <td>Lodwar County Referral Hospital</td>\n",
              "      <td>12.0</td>\n",
              "      <td>20.0</td>\n",
              "      <td>0.0</td>\n",
              "      <td>2.0</td>\n",
              "      <td>NaN</td>\n",
              "      <td>2.0</td>\n",
              "      <td>3.0</td>\n",
              "      <td>NaN</td>\n",
              "      <td>NaN</td>\n",
              "      <td>NaN</td>\n",
              "      <td>NaN</td>\n",
              "      <td>NaN</td>\n",
              "    </tr>\n",
              "    <tr>\n",
              "      <th>4</th>\n",
              "      <td>NaN</td>\n",
              "      <td>Lopiding Sub-County Hospital</td>\n",
              "      <td>0.0</td>\n",
              "      <td>20.0</td>\n",
              "      <td>0.0</td>\n",
              "      <td>2.0</td>\n",
              "      <td>NaN</td>\n",
              "      <td>2.0</td>\n",
              "      <td>NaN</td>\n",
              "      <td>NaN</td>\n",
              "      <td>NaN</td>\n",
              "      <td>NaN</td>\n",
              "      <td>NaN</td>\n",
              "      <td>NaN</td>\n",
              "    </tr>\n",
              "    <tr>\n",
              "      <th>...</th>\n",
              "      <td>...</td>\n",
              "      <td>...</td>\n",
              "      <td>...</td>\n",
              "      <td>...</td>\n",
              "      <td>...</td>\n",
              "      <td>...</td>\n",
              "      <td>...</td>\n",
              "      <td>...</td>\n",
              "      <td>...</td>\n",
              "      <td>...</td>\n",
              "      <td>...</td>\n",
              "      <td>...</td>\n",
              "      <td>...</td>\n",
              "      <td>...</td>\n",
              "    </tr>\n",
              "    <tr>\n",
              "      <th>6931</th>\n",
              "      <td>Homa Bay</td>\n",
              "      <td>NaN</td>\n",
              "      <td>NaN</td>\n",
              "      <td>NaN</td>\n",
              "      <td>NaN</td>\n",
              "      <td>NaN</td>\n",
              "      <td>NaN</td>\n",
              "      <td>NaN</td>\n",
              "      <td>NaN</td>\n",
              "      <td>NaN</td>\n",
              "      <td>NaN</td>\n",
              "      <td>1,131,950</td>\n",
              "      <td>539,560</td>\n",
              "      <td>592,367</td>\n",
              "    </tr>\n",
              "    <tr>\n",
              "      <th>6932</th>\n",
              "      <td>Migori</td>\n",
              "      <td>NaN</td>\n",
              "      <td>NaN</td>\n",
              "      <td>NaN</td>\n",
              "      <td>NaN</td>\n",
              "      <td>NaN</td>\n",
              "      <td>NaN</td>\n",
              "      <td>NaN</td>\n",
              "      <td>NaN</td>\n",
              "      <td>NaN</td>\n",
              "      <td>NaN</td>\n",
              "      <td>1,116,436</td>\n",
              "      <td>536,187</td>\n",
              "      <td>580,214</td>\n",
              "    </tr>\n",
              "    <tr>\n",
              "      <th>6933</th>\n",
              "      <td>Kisii</td>\n",
              "      <td>NaN</td>\n",
              "      <td>NaN</td>\n",
              "      <td>NaN</td>\n",
              "      <td>NaN</td>\n",
              "      <td>NaN</td>\n",
              "      <td>NaN</td>\n",
              "      <td>NaN</td>\n",
              "      <td>NaN</td>\n",
              "      <td>NaN</td>\n",
              "      <td>NaN</td>\n",
              "      <td>1,266,860</td>\n",
              "      <td>605,784</td>\n",
              "      <td>661,038</td>\n",
              "    </tr>\n",
              "    <tr>\n",
              "      <th>6934</th>\n",
              "      <td>Nyamira</td>\n",
              "      <td>NaN</td>\n",
              "      <td>NaN</td>\n",
              "      <td>NaN</td>\n",
              "      <td>NaN</td>\n",
              "      <td>NaN</td>\n",
              "      <td>NaN</td>\n",
              "      <td>NaN</td>\n",
              "      <td>NaN</td>\n",
              "      <td>NaN</td>\n",
              "      <td>NaN</td>\n",
              "      <td>605,576</td>\n",
              "      <td>290,907</td>\n",
              "      <td>314,656</td>\n",
              "    </tr>\n",
              "    <tr>\n",
              "      <th>6935</th>\n",
              "      <td>Nairobi</td>\n",
              "      <td>NaN</td>\n",
              "      <td>NaN</td>\n",
              "      <td>NaN</td>\n",
              "      <td>NaN</td>\n",
              "      <td>NaN</td>\n",
              "      <td>NaN</td>\n",
              "      <td>NaN</td>\n",
              "      <td>NaN</td>\n",
              "      <td>NaN</td>\n",
              "      <td>NaN</td>\n",
              "      <td>4,397,073</td>\n",
              "      <td>2,192,452</td>\n",
              "      <td>2,204,376</td>\n",
              "    </tr>\n",
              "  </tbody>\n",
              "</table>\n",
              "<p>6809 rows × 14 columns</p>\n",
              "</div>"
            ],
            "text/plain": [
              "               County                    Facility Name  ...       Male     Female\n",
              "0     Elgeyo Marakwet     Iten Couty Referral Hospital  ...        NaN        NaN\n",
              "1               Nandi      Nandi Hills County Hospital  ...        NaN        NaN\n",
              "2            Tranzoia                Mt.Elgon Hospital  ...        NaN        NaN\n",
              "3             Turkana  Lodwar County Referral Hospital  ...        NaN        NaN\n",
              "4                 NaN     Lopiding Sub-County Hospital  ...        NaN        NaN\n",
              "...               ...                              ...  ...        ...        ...\n",
              "6931         Homa Bay                              NaN  ...    539,560    592,367\n",
              "6932           Migori                              NaN  ...    536,187    580,214\n",
              "6933            Kisii                              NaN  ...    605,784    661,038\n",
              "6934          Nyamira                              NaN  ...    290,907    314,656\n",
              "6935          Nairobi                              NaN  ...  2,192,452  2,204,376\n",
              "\n",
              "[6809 rows x 14 columns]"
            ]
          },
          "metadata": {
            "tags": []
          },
          "execution_count": 185
        }
      ]
    },
    {
      "cell_type": "markdown",
      "metadata": {
        "id": "bcHhaU-Y7DDJ"
      },
      "source": [
        "## 3.7 Identifying and dropping null Values"
      ]
    },
    {
      "cell_type": "code",
      "metadata": {
        "id": "CyUyN_7A7n8x",
        "colab": {
          "base_uri": "https://localhost:8080/",
          "height": 272
        },
        "outputId": "0a10885b-4d6f-4e83-f23d-c57983c2dbaa"
      },
      "source": [
        "# Identifying null values\n",
        "covid_df.isnull().sum()"
      ],
      "execution_count": null,
      "outputs": [
        {
          "output_type": "execute_result",
          "data": {
            "text/plain": [
              "County                                             1944\n",
              "Facility Name                                        96\n",
              "Regular Isolation Beds Available                   6856\n",
              "Regular Isolation Beds Recommended                 6856\n",
              "Available ICU/Critical Care bed for Isolation      6856\n",
              "Recommended ICU/Critical beds for Isolation        6856\n",
              "Ventilators Available for Isoation                 6930\n",
              "Ventilators Recommended for Isolation              6869\n",
              "ICU beds for General Patients(Public & Private)    6911\n",
              "Cumulative Cases                                   6892\n",
              "Cases per 100,000 population                       6892\n",
              "2019_Population                                    6889\n",
              "Male                                               6889\n",
              "Female                                             6889\n",
              "dtype: int64"
            ]
          },
          "metadata": {
            "tags": []
          },
          "execution_count": 186
        }
      ]
    },
    {
      "cell_type": "code",
      "metadata": {
        "id": "c-1eD6Vn92WQ",
        "colab": {
          "base_uri": "https://localhost:8080/",
          "height": 728
        },
        "outputId": "e5004048-37ee-48f8-b5c9-ef2c835fac25"
      },
      "source": [
        "# Dropping null values\n",
        "covid_df.dropna(how = 'all')"
      ],
      "execution_count": null,
      "outputs": [
        {
          "output_type": "execute_result",
          "data": {
            "text/html": [
              "<div>\n",
              "<style scoped>\n",
              "    .dataframe tbody tr th:only-of-type {\n",
              "        vertical-align: middle;\n",
              "    }\n",
              "\n",
              "    .dataframe tbody tr th {\n",
              "        vertical-align: top;\n",
              "    }\n",
              "\n",
              "    .dataframe thead th {\n",
              "        text-align: right;\n",
              "    }\n",
              "</style>\n",
              "<table border=\"1\" class=\"dataframe\">\n",
              "  <thead>\n",
              "    <tr style=\"text-align: right;\">\n",
              "      <th></th>\n",
              "      <th>County</th>\n",
              "      <th>Facility Name</th>\n",
              "      <th>Regular Isolation Beds Available</th>\n",
              "      <th>Regular Isolation Beds Recommended</th>\n",
              "      <th>Available ICU/Critical Care bed for Isolation</th>\n",
              "      <th>Recommended ICU/Critical beds for Isolation</th>\n",
              "      <th>Ventilators Available for Isoation</th>\n",
              "      <th>Ventilators Recommended for Isolation</th>\n",
              "      <th>ICU beds for General Patients(Public &amp; Private)</th>\n",
              "      <th>Cumulative Cases</th>\n",
              "      <th>Cases per 100,000 population</th>\n",
              "      <th>2019_Population</th>\n",
              "      <th>Male</th>\n",
              "      <th>Female</th>\n",
              "    </tr>\n",
              "  </thead>\n",
              "  <tbody>\n",
              "    <tr>\n",
              "      <th>0</th>\n",
              "      <td>Elgeyo Marakwet</td>\n",
              "      <td>Iten Couty Referral Hospital</td>\n",
              "      <td>20.0</td>\n",
              "      <td>20.0</td>\n",
              "      <td>0.0</td>\n",
              "      <td>2.0</td>\n",
              "      <td>NaN</td>\n",
              "      <td>2.0</td>\n",
              "      <td>6.0</td>\n",
              "      <td>NaN</td>\n",
              "      <td>NaN</td>\n",
              "      <td>NaN</td>\n",
              "      <td>NaN</td>\n",
              "      <td>NaN</td>\n",
              "    </tr>\n",
              "    <tr>\n",
              "      <th>1</th>\n",
              "      <td>Nandi</td>\n",
              "      <td>Nandi Hills County Hospital</td>\n",
              "      <td>35.0</td>\n",
              "      <td>20.0</td>\n",
              "      <td>0.0</td>\n",
              "      <td>2.0</td>\n",
              "      <td>0.0</td>\n",
              "      <td>1.0</td>\n",
              "      <td>2.0</td>\n",
              "      <td>NaN</td>\n",
              "      <td>NaN</td>\n",
              "      <td>NaN</td>\n",
              "      <td>NaN</td>\n",
              "      <td>NaN</td>\n",
              "    </tr>\n",
              "    <tr>\n",
              "      <th>2</th>\n",
              "      <td>Tranzoia</td>\n",
              "      <td>Mt.Elgon Hospital</td>\n",
              "      <td>40.0</td>\n",
              "      <td>20.0</td>\n",
              "      <td>0.0</td>\n",
              "      <td>2.0</td>\n",
              "      <td>NaN</td>\n",
              "      <td>2.0</td>\n",
              "      <td>0.0</td>\n",
              "      <td>NaN</td>\n",
              "      <td>NaN</td>\n",
              "      <td>NaN</td>\n",
              "      <td>NaN</td>\n",
              "      <td>NaN</td>\n",
              "    </tr>\n",
              "    <tr>\n",
              "      <th>3</th>\n",
              "      <td>Turkana</td>\n",
              "      <td>Lodwar County Referral Hospital</td>\n",
              "      <td>12.0</td>\n",
              "      <td>20.0</td>\n",
              "      <td>0.0</td>\n",
              "      <td>2.0</td>\n",
              "      <td>NaN</td>\n",
              "      <td>2.0</td>\n",
              "      <td>3.0</td>\n",
              "      <td>NaN</td>\n",
              "      <td>NaN</td>\n",
              "      <td>NaN</td>\n",
              "      <td>NaN</td>\n",
              "      <td>NaN</td>\n",
              "    </tr>\n",
              "    <tr>\n",
              "      <th>4</th>\n",
              "      <td>NaN</td>\n",
              "      <td>Lopiding Sub-County Hospital</td>\n",
              "      <td>0.0</td>\n",
              "      <td>20.0</td>\n",
              "      <td>0.0</td>\n",
              "      <td>2.0</td>\n",
              "      <td>NaN</td>\n",
              "      <td>2.0</td>\n",
              "      <td>NaN</td>\n",
              "      <td>NaN</td>\n",
              "      <td>NaN</td>\n",
              "      <td>NaN</td>\n",
              "      <td>NaN</td>\n",
              "      <td>NaN</td>\n",
              "    </tr>\n",
              "    <tr>\n",
              "      <th>...</th>\n",
              "      <td>...</td>\n",
              "      <td>...</td>\n",
              "      <td>...</td>\n",
              "      <td>...</td>\n",
              "      <td>...</td>\n",
              "      <td>...</td>\n",
              "      <td>...</td>\n",
              "      <td>...</td>\n",
              "      <td>...</td>\n",
              "      <td>...</td>\n",
              "      <td>...</td>\n",
              "      <td>...</td>\n",
              "      <td>...</td>\n",
              "      <td>...</td>\n",
              "    </tr>\n",
              "    <tr>\n",
              "      <th>6941</th>\n",
              "      <td>Homa Bay</td>\n",
              "      <td>NaN</td>\n",
              "      <td>NaN</td>\n",
              "      <td>NaN</td>\n",
              "      <td>NaN</td>\n",
              "      <td>NaN</td>\n",
              "      <td>NaN</td>\n",
              "      <td>NaN</td>\n",
              "      <td>NaN</td>\n",
              "      <td>NaN</td>\n",
              "      <td>NaN</td>\n",
              "      <td>1,131,950</td>\n",
              "      <td>539,560</td>\n",
              "      <td>592,367</td>\n",
              "    </tr>\n",
              "    <tr>\n",
              "      <th>6942</th>\n",
              "      <td>Migori</td>\n",
              "      <td>NaN</td>\n",
              "      <td>NaN</td>\n",
              "      <td>NaN</td>\n",
              "      <td>NaN</td>\n",
              "      <td>NaN</td>\n",
              "      <td>NaN</td>\n",
              "      <td>NaN</td>\n",
              "      <td>NaN</td>\n",
              "      <td>NaN</td>\n",
              "      <td>NaN</td>\n",
              "      <td>1,116,436</td>\n",
              "      <td>536,187</td>\n",
              "      <td>580,214</td>\n",
              "    </tr>\n",
              "    <tr>\n",
              "      <th>6943</th>\n",
              "      <td>Kisii</td>\n",
              "      <td>NaN</td>\n",
              "      <td>NaN</td>\n",
              "      <td>NaN</td>\n",
              "      <td>NaN</td>\n",
              "      <td>NaN</td>\n",
              "      <td>NaN</td>\n",
              "      <td>NaN</td>\n",
              "      <td>NaN</td>\n",
              "      <td>NaN</td>\n",
              "      <td>NaN</td>\n",
              "      <td>1,266,860</td>\n",
              "      <td>605,784</td>\n",
              "      <td>661,038</td>\n",
              "    </tr>\n",
              "    <tr>\n",
              "      <th>6944</th>\n",
              "      <td>Nyamira</td>\n",
              "      <td>NaN</td>\n",
              "      <td>NaN</td>\n",
              "      <td>NaN</td>\n",
              "      <td>NaN</td>\n",
              "      <td>NaN</td>\n",
              "      <td>NaN</td>\n",
              "      <td>NaN</td>\n",
              "      <td>NaN</td>\n",
              "      <td>NaN</td>\n",
              "      <td>NaN</td>\n",
              "      <td>605,576</td>\n",
              "      <td>290,907</td>\n",
              "      <td>314,656</td>\n",
              "    </tr>\n",
              "    <tr>\n",
              "      <th>6945</th>\n",
              "      <td>Nairobi</td>\n",
              "      <td>NaN</td>\n",
              "      <td>NaN</td>\n",
              "      <td>NaN</td>\n",
              "      <td>NaN</td>\n",
              "      <td>NaN</td>\n",
              "      <td>NaN</td>\n",
              "      <td>NaN</td>\n",
              "      <td>NaN</td>\n",
              "      <td>NaN</td>\n",
              "      <td>NaN</td>\n",
              "      <td>4,397,073</td>\n",
              "      <td>2,192,452</td>\n",
              "      <td>2,204,376</td>\n",
              "    </tr>\n",
              "  </tbody>\n",
              "</table>\n",
              "<p>6943 rows × 14 columns</p>\n",
              "</div>"
            ],
            "text/plain": [
              "               County                    Facility Name  ...       Male     Female\n",
              "0     Elgeyo Marakwet     Iten Couty Referral Hospital  ...        NaN        NaN\n",
              "1               Nandi      Nandi Hills County Hospital  ...        NaN        NaN\n",
              "2            Tranzoia                Mt.Elgon Hospital  ...        NaN        NaN\n",
              "3             Turkana  Lodwar County Referral Hospital  ...        NaN        NaN\n",
              "4                 NaN     Lopiding Sub-County Hospital  ...        NaN        NaN\n",
              "...               ...                              ...  ...        ...        ...\n",
              "6941         Homa Bay                              NaN  ...    539,560    592,367\n",
              "6942           Migori                              NaN  ...    536,187    580,214\n",
              "6943            Kisii                              NaN  ...    605,784    661,038\n",
              "6944          Nyamira                              NaN  ...    290,907    314,656\n",
              "6945          Nairobi                              NaN  ...  2,192,452  2,204,376\n",
              "\n",
              "[6943 rows x 14 columns]"
            ]
          },
          "metadata": {
            "tags": []
          },
          "execution_count": 124
        }
      ]
    },
    {
      "cell_type": "code",
      "metadata": {
        "id": "WMGDsY7MAjMX",
        "colab": {
          "base_uri": "https://localhost:8080/",
          "height": 728
        },
        "outputId": "8814f822-bf5b-4b71-d5c9-a53354932b4c"
      },
      "source": [
        "# fill the null values with \"-\"\n",
        "covid_df.fillna(\"-\")"
      ],
      "execution_count": null,
      "outputs": [
        {
          "output_type": "execute_result",
          "data": {
            "text/html": [
              "<div>\n",
              "<style scoped>\n",
              "    .dataframe tbody tr th:only-of-type {\n",
              "        vertical-align: middle;\n",
              "    }\n",
              "\n",
              "    .dataframe tbody tr th {\n",
              "        vertical-align: top;\n",
              "    }\n",
              "\n",
              "    .dataframe thead th {\n",
              "        text-align: right;\n",
              "    }\n",
              "</style>\n",
              "<table border=\"1\" class=\"dataframe\">\n",
              "  <thead>\n",
              "    <tr style=\"text-align: right;\">\n",
              "      <th></th>\n",
              "      <th>County</th>\n",
              "      <th>Facility Name</th>\n",
              "      <th>Regular Isolation Beds Available</th>\n",
              "      <th>Regular Isolation Beds Recommended</th>\n",
              "      <th>Available ICU/Critical Care bed for Isolation</th>\n",
              "      <th>Recommended ICU/Critical beds for Isolation</th>\n",
              "      <th>Ventilators Available for Isoation</th>\n",
              "      <th>Ventilators Recommended for Isolation</th>\n",
              "      <th>ICU beds for General Patients(Public &amp; Private)</th>\n",
              "      <th>Cumulative Cases</th>\n",
              "      <th>Cases per 100,000 population</th>\n",
              "      <th>2019_Population</th>\n",
              "      <th>Male</th>\n",
              "      <th>Female</th>\n",
              "    </tr>\n",
              "  </thead>\n",
              "  <tbody>\n",
              "    <tr>\n",
              "      <th>0</th>\n",
              "      <td>Elgeyo Marakwet</td>\n",
              "      <td>Iten Couty Referral Hospital</td>\n",
              "      <td>20</td>\n",
              "      <td>20</td>\n",
              "      <td>0</td>\n",
              "      <td>2</td>\n",
              "      <td>-</td>\n",
              "      <td>2</td>\n",
              "      <td>6</td>\n",
              "      <td>-</td>\n",
              "      <td>-</td>\n",
              "      <td>-</td>\n",
              "      <td>-</td>\n",
              "      <td>-</td>\n",
              "    </tr>\n",
              "    <tr>\n",
              "      <th>1</th>\n",
              "      <td>Nandi</td>\n",
              "      <td>Nandi Hills County Hospital</td>\n",
              "      <td>35</td>\n",
              "      <td>20</td>\n",
              "      <td>0</td>\n",
              "      <td>2</td>\n",
              "      <td>0</td>\n",
              "      <td>1</td>\n",
              "      <td>2</td>\n",
              "      <td>-</td>\n",
              "      <td>-</td>\n",
              "      <td>-</td>\n",
              "      <td>-</td>\n",
              "      <td>-</td>\n",
              "    </tr>\n",
              "    <tr>\n",
              "      <th>2</th>\n",
              "      <td>Tranzoia</td>\n",
              "      <td>Mt.Elgon Hospital</td>\n",
              "      <td>40</td>\n",
              "      <td>20</td>\n",
              "      <td>0</td>\n",
              "      <td>2</td>\n",
              "      <td>-</td>\n",
              "      <td>2</td>\n",
              "      <td>0</td>\n",
              "      <td>-</td>\n",
              "      <td>-</td>\n",
              "      <td>-</td>\n",
              "      <td>-</td>\n",
              "      <td>-</td>\n",
              "    </tr>\n",
              "    <tr>\n",
              "      <th>3</th>\n",
              "      <td>Turkana</td>\n",
              "      <td>Lodwar County Referral Hospital</td>\n",
              "      <td>12</td>\n",
              "      <td>20</td>\n",
              "      <td>0</td>\n",
              "      <td>2</td>\n",
              "      <td>-</td>\n",
              "      <td>2</td>\n",
              "      <td>3</td>\n",
              "      <td>-</td>\n",
              "      <td>-</td>\n",
              "      <td>-</td>\n",
              "      <td>-</td>\n",
              "      <td>-</td>\n",
              "    </tr>\n",
              "    <tr>\n",
              "      <th>4</th>\n",
              "      <td>-</td>\n",
              "      <td>Lopiding Sub-County Hospital</td>\n",
              "      <td>0</td>\n",
              "      <td>20</td>\n",
              "      <td>0</td>\n",
              "      <td>2</td>\n",
              "      <td>-</td>\n",
              "      <td>2</td>\n",
              "      <td>-</td>\n",
              "      <td>-</td>\n",
              "      <td>-</td>\n",
              "      <td>-</td>\n",
              "      <td>-</td>\n",
              "      <td>-</td>\n",
              "    </tr>\n",
              "    <tr>\n",
              "      <th>...</th>\n",
              "      <td>...</td>\n",
              "      <td>...</td>\n",
              "      <td>...</td>\n",
              "      <td>...</td>\n",
              "      <td>...</td>\n",
              "      <td>...</td>\n",
              "      <td>...</td>\n",
              "      <td>...</td>\n",
              "      <td>...</td>\n",
              "      <td>...</td>\n",
              "      <td>...</td>\n",
              "      <td>...</td>\n",
              "      <td>...</td>\n",
              "      <td>...</td>\n",
              "    </tr>\n",
              "    <tr>\n",
              "      <th>6941</th>\n",
              "      <td>Homa Bay</td>\n",
              "      <td>-</td>\n",
              "      <td>-</td>\n",
              "      <td>-</td>\n",
              "      <td>-</td>\n",
              "      <td>-</td>\n",
              "      <td>-</td>\n",
              "      <td>-</td>\n",
              "      <td>-</td>\n",
              "      <td>-</td>\n",
              "      <td>-</td>\n",
              "      <td>1,131,950</td>\n",
              "      <td>539,560</td>\n",
              "      <td>592,367</td>\n",
              "    </tr>\n",
              "    <tr>\n",
              "      <th>6942</th>\n",
              "      <td>Migori</td>\n",
              "      <td>-</td>\n",
              "      <td>-</td>\n",
              "      <td>-</td>\n",
              "      <td>-</td>\n",
              "      <td>-</td>\n",
              "      <td>-</td>\n",
              "      <td>-</td>\n",
              "      <td>-</td>\n",
              "      <td>-</td>\n",
              "      <td>-</td>\n",
              "      <td>1,116,436</td>\n",
              "      <td>536,187</td>\n",
              "      <td>580,214</td>\n",
              "    </tr>\n",
              "    <tr>\n",
              "      <th>6943</th>\n",
              "      <td>Kisii</td>\n",
              "      <td>-</td>\n",
              "      <td>-</td>\n",
              "      <td>-</td>\n",
              "      <td>-</td>\n",
              "      <td>-</td>\n",
              "      <td>-</td>\n",
              "      <td>-</td>\n",
              "      <td>-</td>\n",
              "      <td>-</td>\n",
              "      <td>-</td>\n",
              "      <td>1,266,860</td>\n",
              "      <td>605,784</td>\n",
              "      <td>661,038</td>\n",
              "    </tr>\n",
              "    <tr>\n",
              "      <th>6944</th>\n",
              "      <td>Nyamira</td>\n",
              "      <td>-</td>\n",
              "      <td>-</td>\n",
              "      <td>-</td>\n",
              "      <td>-</td>\n",
              "      <td>-</td>\n",
              "      <td>-</td>\n",
              "      <td>-</td>\n",
              "      <td>-</td>\n",
              "      <td>-</td>\n",
              "      <td>-</td>\n",
              "      <td>605,576</td>\n",
              "      <td>290,907</td>\n",
              "      <td>314,656</td>\n",
              "    </tr>\n",
              "    <tr>\n",
              "      <th>6945</th>\n",
              "      <td>Nairobi</td>\n",
              "      <td>-</td>\n",
              "      <td>-</td>\n",
              "      <td>-</td>\n",
              "      <td>-</td>\n",
              "      <td>-</td>\n",
              "      <td>-</td>\n",
              "      <td>-</td>\n",
              "      <td>-</td>\n",
              "      <td>-</td>\n",
              "      <td>-</td>\n",
              "      <td>4,397,073</td>\n",
              "      <td>2,192,452</td>\n",
              "      <td>2,204,376</td>\n",
              "    </tr>\n",
              "  </tbody>\n",
              "</table>\n",
              "<p>6946 rows × 14 columns</p>\n",
              "</div>"
            ],
            "text/plain": [
              "               County                    Facility Name  ...       Male     Female\n",
              "0     Elgeyo Marakwet     Iten Couty Referral Hospital  ...          -          -\n",
              "1               Nandi      Nandi Hills County Hospital  ...          -          -\n",
              "2            Tranzoia                Mt.Elgon Hospital  ...          -          -\n",
              "3             Turkana  Lodwar County Referral Hospital  ...          -          -\n",
              "4                   -     Lopiding Sub-County Hospital  ...          -          -\n",
              "...               ...                              ...  ...        ...        ...\n",
              "6941         Homa Bay                                -  ...    539,560    592,367\n",
              "6942           Migori                                -  ...    536,187    580,214\n",
              "6943            Kisii                                -  ...    605,784    661,038\n",
              "6944          Nyamira                                -  ...    290,907    314,656\n",
              "6945          Nairobi                                -  ...  2,192,452  2,204,376\n",
              "\n",
              "[6946 rows x 14 columns]"
            ]
          },
          "metadata": {
            "tags": []
          },
          "execution_count": 125
        }
      ]
    },
    {
      "cell_type": "markdown",
      "metadata": {
        "id": "SJLiINIjajVE"
      },
      "source": [
        "# DATA ANALYSIS"
      ]
    },
    {
      "cell_type": "code",
      "metadata": {
        "id": "IolVIw_OavWh"
      },
      "source": [
        ""
      ],
      "execution_count": null,
      "outputs": []
    },
    {
      "cell_type": "markdown",
      "metadata": {
        "id": "qywd_JCUawsj"
      },
      "source": [
        "# RECOMMENDATION"
      ]
    },
    {
      "cell_type": "markdown",
      "metadata": {
        "id": "QnSkUoSYa59w"
      },
      "source": [
        ""
      ]
    }
  ]
}